{
 "cells": [
  {
   "cell_type": "markdown",
   "id": "ce5899d1-34a1-4e45-ae25-afe386db10e6",
   "metadata": {},
   "source": [
    "# swmm_api basic tutorial\n",
    "\n",
    "In this Jupyter Notebook, our goal is to explore basic functionalities of `swmm_api`. You can find the documentation [here](https://markuspichler.gitlab.io/swmm_api/README.html#).\n",
    "\n",
    "For our analyses, we will use Example2-Post.inp, that we worked on in class. Verify your code by comparing to the .inp file"
   ]
  },
  {
   "cell_type": "markdown",
   "id": "aafbfdf4-b57f-4d1b-9555-791e6557f510",
   "metadata": {},
   "source": [
    "# 1. Read INP file"
   ]
  },
  {
   "cell_type": "code",
   "execution_count": 1,
   "id": "7dd7e6ee-9f9a-4786-b1fb-544810e990d4",
   "metadata": {},
   "outputs": [
    {
     "name": "stdout",
     "output_type": "stream",
     "text": [
      "swmm_api.__version__ = '0.4.64'\n"
     ]
    }
   ],
   "source": [
    "import swmm_api\n",
    "print(f'{swmm_api.__version__ = }')"
   ]
  },
  {
   "cell_type": "markdown",
   "id": "77c7333d-97e6-4ab4-a5a3-9ef2c3100a87",
   "metadata": {},
   "source": [
    "### Import packages"
   ]
  },
  {
   "cell_type": "code",
   "execution_count": 2,
   "id": "2aa3430d-c353-4f48-b19f-f7d71681ba37",
   "metadata": {},
   "outputs": [],
   "source": [
    "from swmm_api.input_file import read_inp_file, SwmmInput, section_labels as sections\n",
    "from swmm_api.input_file.sections import Outfall"
   ]
  },
  {
   "cell_type": "code",
   "execution_count": 3,
   "id": "b21f6063-0482-4f6e-802a-48b4289b3a37",
   "metadata": {},
   "outputs": [],
   "source": [
    "# read the file \n",
    "# the inp object is like a dictionary\n",
    "\n",
    "inp = read_inp_file('Example2-Post.inp') "
   ]
  },
  {
   "cell_type": "markdown",
   "id": "6fe3e457-ac04-4467-bdfd-b3e5fe3f3c52",
   "metadata": {},
   "source": [
    "### Explore different sections"
   ]
  },
  {
   "cell_type": "code",
   "execution_count": 4,
   "id": "030e93c1-05f0-4fa6-b9c0-0d11e08ddada",
   "metadata": {},
   "outputs": [
    {
     "data": {
      "text/plain": [
       "dict_keys(['TITLE', 'OPTIONS', 'EVAPORATION', 'RAINGAGES', 'SUBCATCHMENTS', 'SUBAREAS', 'INFILTRATION', 'JUNCTIONS', 'OUTFALLS', 'CONDUITS', 'XSECTIONS', 'TIMESERIES', 'REPORT', 'TAGS', 'MAP', 'COORDINATES', 'VERTICES', 'POLYGONS', 'SYMBOLS', 'LABELS'])"
      ]
     },
     "execution_count": 4,
     "metadata": {},
     "output_type": "execute_result"
    }
   ],
   "source": [
    "# get the sections\n",
    "inp.keys()"
   ]
  },
  {
   "cell_type": "code",
   "execution_count": 5,
   "id": "cb004508-d6e5-40cd-8e9a-3c7d2807721d",
   "metadata": {},
   "outputs": [
    {
     "data": {
      "text/plain": [
       "{   'FLOW_UNITS': 'CFS',\n",
       "    'INFILTRATION': 'HORTON',\n",
       "    'FLOW_ROUTING': 'KINWAVE',\n",
       "    'LINK_OFFSETS': 'DEPTH',\n",
       "    'MIN_SLOPE': 0,\n",
       "    'ALLOW_PONDING': False,\n",
       "    'SKIP_STEADY_STATE': False,\n",
       "    'START_DATE': datetime.date(2007, 1, 1),\n",
       "    'START_TIME': datetime.time(0, 0),\n",
       "    'REPORT_START_DATE': datetime.date(2007, 1, 1),\n",
       "    'REPORT_START_TIME': datetime.time(0, 0),\n",
       "    'END_DATE': datetime.date(2007, 1, 1),\n",
       "    'END_TIME': datetime.time(12, 0),\n",
       "    'SWEEP_START': '01/01',\n",
       "    'SWEEP_END': '12/31',\n",
       "    'DRY_DAYS': 0,\n",
       "    'REPORT_STEP': datetime.time(0, 1),\n",
       "    'WET_STEP': datetime.time(0, 1),\n",
       "    'DRY_STEP': datetime.time(1, 0),\n",
       "    'ROUTING_STEP': '0:00:15',\n",
       "    'RULE_STEP': datetime.time(0, 0),\n",
       "    'INERTIAL_DAMPING': 'PARTIAL',\n",
       "    'NORMAL_FLOW_LIMITED': 'SLOPE',\n",
       "    'FORCE_MAIN_EQUATION': 'H-W',\n",
       "    'VARIABLE_STEP': 0.75,\n",
       "    'LENGTHENING_STEP': 0,\n",
       "    'MIN_SURFAREA': 0,\n",
       "    'MAX_TRIALS': 0,\n",
       "    'HEAD_TOLERANCE': 0,\n",
       "    'SYS_FLOW_TOL': 5,\n",
       "    'LAT_FLOW_TOL': 5,\n",
       "    'MINIMUM_STEP': 0.5,\n",
       "    'THREADS': 1}"
      ]
     },
     "execution_count": 5,
     "metadata": {},
     "output_type": "execute_result"
    }
   ],
   "source": [
    "# get different settings in a specific section\n",
    "# for example OPTIONS\n",
    "\n",
    "inp.OPTIONS\n",
    "\n",
    "# you can also access it like this\n",
    "# inp[sections.OPTIONS]"
   ]
  },
  {
   "cell_type": "code",
   "execution_count": 6,
   "id": "53983e1c-5c03-434e-b09b-017cd13057a3",
   "metadata": {},
   "outputs": [
    {
     "name": "stdout",
     "output_type": "stream",
     "text": [
      "FLOW_UNITS           CFS\n",
      "INFILTRATION         HORTON\n",
      "FLOW_ROUTING         KINWAVE\n",
      "LINK_OFFSETS         DEPTH\n",
      "MIN_SLOPE            0\n",
      "ALLOW_PONDING        NO\n",
      "SKIP_STEADY_STATE    NO\n",
      "START_DATE           01/01/2007\n",
      "START_TIME           00:00:00\n",
      "REPORT_START_DATE    01/01/2007\n",
      "REPORT_START_TIME    00:00:00\n",
      "END_DATE             01/01/2007\n",
      "END_TIME             12:00:00\n",
      "SWEEP_START          01/01\n",
      "SWEEP_END            12/31\n",
      "DRY_DAYS             0\n",
      "REPORT_STEP          00:01:00\n",
      "WET_STEP             00:01:00\n",
      "DRY_STEP             01:00:00\n",
      "ROUTING_STEP         0:00:15\n",
      "RULE_STEP            00:00:00\n",
      "INERTIAL_DAMPING     PARTIAL\n",
      "NORMAL_FLOW_LIMITED  SLOPE\n",
      "FORCE_MAIN_EQUATION  H-W\n",
      "VARIABLE_STEP        0.75\n",
      "LENGTHENING_STEP     0\n",
      "MIN_SURFAREA         0\n",
      "MAX_TRIALS           0\n",
      "HEAD_TOLERANCE       0\n",
      "SYS_FLOW_TOL         5\n",
      "LAT_FLOW_TOL         5\n",
      "MINIMUM_STEP         0.5\n",
      "THREADS              1\n"
     ]
    }
   ],
   "source": [
    "# to convert a section to a string, use the .to_inp_lines() method\n",
    "\n",
    "print(inp[sections.OPTIONS].to_inp_lines())"
   ]
  },
  {
   "cell_type": "code",
   "execution_count": 7,
   "id": "3dfe1457-76c6-4014-9420-d907bd708cc6",
   "metadata": {},
   "outputs": [
    {
     "name": "stdout",
     "output_type": "stream",
     "text": [
      ";;     rain_gage outlet  area imperviousness width slope curb_length snow_pack\n",
      ";;name                                                                        \n",
      "S1      RainGage     J1  4.55           56.8  1587     2           0          \n",
      "S2      RainGage     J2  4.74             63  1653     2           0          \n",
      "S3      RainGage     J3  3.74           39.5  1456   3.1           0          \n",
      "S4      RainGage     J7  6.79           49.9  2331   3.1           0          \n",
      "S5      RainGage    J10  4.79           87.7  1670     2           0          \n",
      "S6      RainGage    J11  1.98             95   690     2           0          \n",
      "S7      RainGage    J10  2.33              0   907   3.1           0          \n"
     ]
    }
   ],
   "source": [
    "# SUBCATCHMENTS\n",
    "\n",
    "print(inp[sections.SUBCATCHMENTS].to_inp_lines())"
   ]
  },
  {
   "cell_type": "code",
   "execution_count": 8,
   "id": "e5c96956-4e7b-4233-a13e-2041cf8632cb",
   "metadata": {},
   "outputs": [
    {
     "data": {
      "text/html": [
       "<div>\n",
       "<style scoped>\n",
       "    .dataframe tbody tr th:only-of-type {\n",
       "        vertical-align: middle;\n",
       "    }\n",
       "\n",
       "    .dataframe tbody tr th {\n",
       "        vertical-align: top;\n",
       "    }\n",
       "\n",
       "    .dataframe thead th {\n",
       "        text-align: right;\n",
       "    }\n",
       "</style>\n",
       "<table border=\"1\" class=\"dataframe\">\n",
       "  <thead>\n",
       "    <tr style=\"text-align: right;\">\n",
       "      <th></th>\n",
       "      <th>rain_gage</th>\n",
       "      <th>outlet</th>\n",
       "      <th>area</th>\n",
       "      <th>imperviousness</th>\n",
       "      <th>width</th>\n",
       "      <th>slope</th>\n",
       "      <th>curb_length</th>\n",
       "      <th>snow_pack</th>\n",
       "    </tr>\n",
       "    <tr>\n",
       "      <th>name</th>\n",
       "      <th></th>\n",
       "      <th></th>\n",
       "      <th></th>\n",
       "      <th></th>\n",
       "      <th></th>\n",
       "      <th></th>\n",
       "      <th></th>\n",
       "      <th></th>\n",
       "    </tr>\n",
       "  </thead>\n",
       "  <tbody>\n",
       "    <tr>\n",
       "      <th>S1</th>\n",
       "      <td>RainGage</td>\n",
       "      <td>J1</td>\n",
       "      <td>4.55</td>\n",
       "      <td>56.8</td>\n",
       "      <td>1587.0</td>\n",
       "      <td>2.0</td>\n",
       "      <td>0.0</td>\n",
       "      <td>NaN</td>\n",
       "    </tr>\n",
       "    <tr>\n",
       "      <th>S2</th>\n",
       "      <td>RainGage</td>\n",
       "      <td>J2</td>\n",
       "      <td>4.74</td>\n",
       "      <td>63.0</td>\n",
       "      <td>1653.0</td>\n",
       "      <td>2.0</td>\n",
       "      <td>0.0</td>\n",
       "      <td>NaN</td>\n",
       "    </tr>\n",
       "    <tr>\n",
       "      <th>S3</th>\n",
       "      <td>RainGage</td>\n",
       "      <td>J3</td>\n",
       "      <td>3.74</td>\n",
       "      <td>39.5</td>\n",
       "      <td>1456.0</td>\n",
       "      <td>3.1</td>\n",
       "      <td>0.0</td>\n",
       "      <td>NaN</td>\n",
       "    </tr>\n",
       "    <tr>\n",
       "      <th>S4</th>\n",
       "      <td>RainGage</td>\n",
       "      <td>J7</td>\n",
       "      <td>6.79</td>\n",
       "      <td>49.9</td>\n",
       "      <td>2331.0</td>\n",
       "      <td>3.1</td>\n",
       "      <td>0.0</td>\n",
       "      <td>NaN</td>\n",
       "    </tr>\n",
       "    <tr>\n",
       "      <th>S5</th>\n",
       "      <td>RainGage</td>\n",
       "      <td>J10</td>\n",
       "      <td>4.79</td>\n",
       "      <td>87.7</td>\n",
       "      <td>1670.0</td>\n",
       "      <td>2.0</td>\n",
       "      <td>0.0</td>\n",
       "      <td>NaN</td>\n",
       "    </tr>\n",
       "    <tr>\n",
       "      <th>S6</th>\n",
       "      <td>RainGage</td>\n",
       "      <td>J11</td>\n",
       "      <td>1.98</td>\n",
       "      <td>95.0</td>\n",
       "      <td>690.0</td>\n",
       "      <td>2.0</td>\n",
       "      <td>0.0</td>\n",
       "      <td>NaN</td>\n",
       "    </tr>\n",
       "    <tr>\n",
       "      <th>S7</th>\n",
       "      <td>RainGage</td>\n",
       "      <td>J10</td>\n",
       "      <td>2.33</td>\n",
       "      <td>0.0</td>\n",
       "      <td>907.0</td>\n",
       "      <td>3.1</td>\n",
       "      <td>0.0</td>\n",
       "      <td>NaN</td>\n",
       "    </tr>\n",
       "  </tbody>\n",
       "</table>\n",
       "</div>"
      ],
      "text/plain": [
       "     rain_gage outlet  area  imperviousness   width  slope  curb_length  \\\n",
       "name                                                                      \n",
       "S1    RainGage     J1  4.55            56.8  1587.0    2.0          0.0   \n",
       "S2    RainGage     J2  4.74            63.0  1653.0    2.0          0.0   \n",
       "S3    RainGage     J3  3.74            39.5  1456.0    3.1          0.0   \n",
       "S4    RainGage     J7  6.79            49.9  2331.0    3.1          0.0   \n",
       "S5    RainGage    J10  4.79            87.7  1670.0    2.0          0.0   \n",
       "S6    RainGage    J11  1.98            95.0   690.0    2.0          0.0   \n",
       "S7    RainGage    J10  2.33             0.0   907.0    3.1          0.0   \n",
       "\n",
       "      snow_pack  \n",
       "name             \n",
       "S1          NaN  \n",
       "S2          NaN  \n",
       "S3          NaN  \n",
       "S4          NaN  \n",
       "S5          NaN  \n",
       "S6          NaN  \n",
       "S7          NaN  "
      ]
     },
     "execution_count": 8,
     "metadata": {},
     "output_type": "execute_result"
    }
   ],
   "source": [
    "# for table-like structures, you can convert a section to a pandas dataframe (not for OPTIONS, REPORTS...)\n",
    "\n",
    "inp.SUBCATCHMENTS.frame"
   ]
  },
  {
   "cell_type": "markdown",
   "id": "295819f5-d85d-41d8-bc50-e8027fab1c14",
   "metadata": {},
   "source": [
    "### Explore a single section"
   ]
  },
  {
   "cell_type": "code",
   "execution_count": 9,
   "id": "11c29b29-e287-420b-8a0a-c22e41b7500a",
   "metadata": {},
   "outputs": [
    {
     "name": "stdout",
     "output_type": "stream",
     "text": [
      ";;     from_node to_node length roughness offset_upstream offset_downstream flow_initial flow_max\n",
      ";;name                                                                                           \n",
      "C1            J1      J5    185      0.05               0                 0            0         \n",
      "C2            J2     J11    526     0.016               0                 4            0         \n",
      "C3            J3      J4    109     0.016               0                 0            0         \n",
      "C4            J4      J5    133      0.05               0                 0            0         \n",
      "C5            J5      J6    207      0.05               0                 0            0         \n",
      "C6            J7      J6    140      0.05               0                 0            0         \n",
      "C7            J6      J8     95     0.016               0                 0            0         \n",
      "C8            J8      J9    166      0.05               0                 0            0         \n",
      "C9            J9     J10    320      0.05               0                 0            0         \n",
      "C10          J10     J11    145      0.05               0                 0            0         \n",
      "C11          J11      O1     89     0.016               0                 0            0         \n"
     ]
    }
   ],
   "source": [
    "# for example CONDUITS\n",
    "\n",
    "print(inp.CONDUITS.to_inp_lines())"
   ]
  },
  {
   "cell_type": "code",
   "execution_count": 10,
   "id": "654af36d-5c59-42cd-beb2-6c2098492445",
   "metadata": {},
   "outputs": [
    {
     "data": {
      "text/plain": [
       "Conduit(name='C1', from_node='J1', to_node='J5', length=185.0, roughness=0.05, offset_upstream=0.0, offset_downstream=0.0, flow_initial=0.0, flow_max=nan)"
      ]
     },
     "execution_count": 10,
     "metadata": {},
     "output_type": "execute_result"
    }
   ],
   "source": [
    "# explore C1\n",
    "\n",
    "inp.CONDUITS['C1']"
   ]
  },
  {
   "cell_type": "code",
   "execution_count": 11,
   "id": "8476ba5b-480d-437d-9df3-57ad5f89f80b",
   "metadata": {},
   "outputs": [
    {
     "name": "stdout",
     "output_type": "stream",
     "text": [
      "185.0\n",
      "0.05\n"
     ]
    }
   ],
   "source": [
    "# get C1 length and roughness \n",
    "\n",
    "print(inp.CONDUITS['C1'].length)\n",
    "print(inp.CONDUITS['C1'].roughness)"
   ]
  },
  {
   "cell_type": "code",
   "execution_count": 12,
   "id": "0486fe95-93c5-4ea1-b3ea-d6e1e0b2796f",
   "metadata": {},
   "outputs": [
    {
     "data": {
      "text/plain": [
       "{   'RainGage': RainGage(name='RainGage', form='INTENSITY', interval='0:05', SCF=1.0, source='TIMESERIES', timeseries='100-yr', filename=nan, station=nan, units=nan)}"
      ]
     },
     "execution_count": 12,
     "metadata": {},
     "output_type": "execute_result"
    }
   ],
   "source": [
    "# RAINGAGES section\n",
    "\n",
    "inp.RAINGAGES"
   ]
  },
  {
   "cell_type": "code",
   "execution_count": 13,
   "id": "14d6b0b7-90dd-45ff-b33b-077e808af0f3",
   "metadata": {},
   "outputs": [
    {
     "name": "stdout",
     "output_type": "stream",
     "text": [
      "100-yr\n"
     ]
    }
   ],
   "source": [
    "# get specific attribute\n",
    "\n",
    "timeseries_name = inp.RAINGAGES['RainGage'].timeseries\n",
    "print(timeseries_name)"
   ]
  },
  {
   "cell_type": "code",
   "execution_count": 14,
   "id": "26f55b60-b01a-4c25-a1c1-e93ccac8367b",
   "metadata": {},
   "outputs": [
    {
     "data": {
      "text/plain": [
       "0.000000    1.00\n",
       "0.083333    1.14\n",
       "0.166667    1.33\n",
       "0.250000    2.23\n",
       "0.333333    2.84\n",
       "0.416667    5.49\n",
       "0.500000    9.95\n",
       "0.583333    4.12\n",
       "0.666667    2.48\n",
       "0.750000    1.46\n",
       "0.833333    1.22\n",
       "0.916667    1.06\n",
       "1.000000    1.00\n",
       "1.083333    0.95\n",
       "1.166667    0.91\n",
       "1.250000    0.87\n",
       "1.333333    0.84\n",
       "1.416667    0.81\n",
       "1.500000    0.78\n",
       "1.583333    0.75\n",
       "1.666667    0.73\n",
       "1.750000    0.71\n",
       "1.833333    0.69\n",
       "1.916667    0.67\n",
       "Name: 100-yr, dtype: float64"
      ]
     },
     "execution_count": 14,
     "metadata": {},
     "output_type": "execute_result"
    }
   ],
   "source": [
    "# get TIMESERIES\n",
    "\n",
    "inp.TIMESERIES[timeseries_name].frame"
   ]
  },
  {
   "cell_type": "markdown",
   "id": "091a5447-98f9-403c-aca6-1c56d7e6a7cb",
   "metadata": {},
   "source": [
    "# 2. Plotting the model"
   ]
  },
  {
   "cell_type": "markdown",
   "id": "a0339ed9-1d10-44b0-ab3a-d73eeeaa5fdf",
   "metadata": {},
   "source": [
    "import classes"
   ]
  },
  {
   "cell_type": "code",
   "execution_count": 15,
   "id": "7a970e57-b860-42c4-b01f-8cbec2d64f0e",
   "metadata": {},
   "outputs": [],
   "source": [
    "from swmm_api import SwmmInput\n",
    "from swmm_api.input_file.macros import nodes_dict, PlottingMap, init_empty_map_plot, plot_longitudinal\n",
    "from swmm_api.input_file.macros import add_node_map, add_link_map, add_subcatchment_map, add_node_labels, plot_map"
   ]
  },
  {
   "cell_type": "code",
   "execution_count": 16,
   "id": "a138b7f9-c0d2-4751-8a57-dabe304023ec",
   "metadata": {},
   "outputs": [
    {
     "data": {
      "image/png": "[encoded data removed]",
      "text/plain": [
       "<Figure size 640x480 with 1 Axes>"
      ]
     },
     "metadata": {},
     "output_type": "display_data"
    }
   ],
   "source": [
    "# plot the model\n",
    "# default\n",
    "\n",
    "inp = read_inp_file('Example2-Post.inp') \n",
    "fig, ax = plot_map(inp)"
   ]
  },
  {
   "cell_type": "code",
   "execution_count": 17,
   "id": "0193f8c2-10a4-42d1-8eb0-39b230af0a7a",
   "metadata": {},
   "outputs": [
    {
     "data": {
      "image/png": "[encoded data removed]",
      "text/plain": [
       "<Figure size 640x480 with 1 Axes>"
      ]
     },
     "metadata": {},
     "output_type": "display_data"
    }
   ],
   "source": [
    "# make it prettier\n",
    "\n",
    "m = PlottingMap(inp).add_subcatchment_map(add_connector_arrows=True).add_link_map(add_arrows=True).add_node_map().add_node_labels(y_offset=80)\n",
    "# fig, ax = m.fig, m.ax"
   ]
  },
  {
   "cell_type": "code",
   "execution_count": 18,
   "id": "8e9956fe-3619-47e8-b1ce-80f14c158fea",
   "metadata": {},
   "outputs": [
    {
     "data": {
      "text/plain": [
       "Text(0.5, 1.0, \"start_node='J1', end_node='J10'\")"
      ]
     },
     "execution_count": 18,
     "metadata": {},
     "output_type": "execute_result"
    },
    {
     "data": {
      "image/png": "[encoded data removed]",
      "text/plain": [
       "<Figure size 640x480 with 1 Axes>"
      ]
     },
     "metadata": {},
     "output_type": "display_data"
    }
   ],
   "source": [
    "# profile plot\n",
    "\n",
    "_, ax = plot_longitudinal(inp, start_node='J1', end_node='J10')\n",
    "ax.set_title(\"start_node='J1', end_node='J10'\")"
   ]
  },
  {
   "cell_type": "markdown",
   "id": "ca3a978e-2010-4967-9eec-28a45234fde9",
   "metadata": {},
   "source": [
    "# 3. Running a simulation and extracting results"
   ]
  },
  {
   "cell_type": "markdown",
   "id": "a51fc5d1-7874-4293-b719-b7e6431d6ee6",
   "metadata": {},
   "source": [
    "import classes"
   ]
  },
  {
   "cell_type": "code",
   "execution_count": 19,
   "id": "252f5555-31c7-4a50-a093-81d6b6b3f800",
   "metadata": {},
   "outputs": [],
   "source": [
    "from swmm_api import SwmmInput, SwmmOutput, SwmmReport\n",
    "from swmm_api.output_file import OBJECTS, VARIABLES\n",
    "from swmm_api.run_swmm import swmm5_run_epa, swmm5_run_progress\n",
    "from swmm_api.run_swmm.run_temporary import swmm5_run_temporary"
   ]
  },
  {
   "cell_type": "code",
   "execution_count": 20,
   "id": "315f6a42-69a3-4549-a3c3-605153b2b5dc",
   "metadata": {},
   "outputs": [],
   "source": [
    "inp = read_inp_file('Example2-Post.inp') "
   ]
  },
  {
   "cell_type": "markdown",
   "id": "8980a450-edd2-426a-afd2-dcc5e117f379",
   "metadata": {},
   "source": [
    "### 3.1. Run the simulation and get the output and status reports"
   ]
  },
  {
   "cell_type": "code",
   "execution_count": 21,
   "id": "5f098157-d77d-4b4e-86b3-2189afb0c82c",
   "metadata": {},
   "outputs": [
    {
     "data": {
      "application/vnd.jupyter.widget-view+json": {
       "model_id": "8f6f9e8296594356b7b790edb76f1a04",
       "version_major": 2,
       "version_minor": 0
      },
      "text/plain": [
       "swmm5 C:\\Users\\ps28866\\AppData\\Local\\Temp\\tmpck7v2gjo\\example_run_swmm.inp:   0%|          | 0/100 [00:00<?, ?…"
      ]
     },
     "metadata": {},
     "output_type": "display_data"
    }
   ],
   "source": [
    "# run simulation\n",
    "\n",
    "with swmm5_run_temporary(inp.copy(), run = swmm5_run_progress, label='example_run_swmm') as res:\n",
    "    out = res.out  # type: SwmmOutput\n",
    "    rpt = res.rpt  # type: SwmmReport"
   ]
  },
  {
   "cell_type": "markdown",
   "id": "d365ffe9-7976-4112-b0f8-b75f15b0c2f6",
   "metadata": {},
   "source": [
    "### 3.2 example for reading RPT file"
   ]
  },
  {
   "cell_type": "code",
   "execution_count": 22,
   "id": "432a0c2a-377c-4202-a6da-2673e8708c9e",
   "metadata": {},
   "outputs": [
    {
     "data": {
      "text/plain": [
       "['Simulation Infos',\n",
       " 'Version+Title',\n",
       " 'Analysis Options',\n",
       " 'Runoff Quantity Continuity',\n",
       " 'Flow Routing Continuity',\n",
       " 'Highest Flow Instability Indexes',\n",
       " 'Routing Time Step Summary',\n",
       " 'Subcatchment Runoff Summary',\n",
       " 'Node Depth Summary',\n",
       " 'Node Inflow Summary',\n",
       " 'Node Flooding Summary',\n",
       " 'Outfall Loading Summary',\n",
       " 'Link Flow Summary',\n",
       " 'Conduit Surcharge Summary']"
      ]
     },
     "execution_count": 22,
     "metadata": {},
     "output_type": "execute_result"
    }
   ],
   "source": [
    "# get available sections\n",
    "\n",
    "rpt.available_parts"
   ]
  },
  {
   "cell_type": "code",
   "execution_count": 23,
   "id": "26dfa9aa-862c-43dc-b32e-4b9dc49712a4",
   "metadata": {},
   "outputs": [
    {
     "name": "stdout",
     "output_type": "stream",
     "text": [
      "  **************************        Volume         Depth\n",
      "  Runoff Quantity Continuity     acre-feet        inches\n",
      "  **************************     ---------       -------\n",
      "  Total Precipitation ......         8.843         3.669\n",
      "  Evaporation Loss .........         0.000         0.000\n",
      "  Infiltration Loss ........         1.470         0.610\n",
      "  Surface Runoff ...........         7.318         3.036\n",
      "  Final Storage ............         0.062         0.026\n",
      "  Continuity Error (%) .....        -0.077\n"
     ]
    }
   ],
   "source": [
    "# print individual parts\n",
    "# example Runoff Quantity Continuity\n",
    "\n",
    "rpt.print_raw_part('Runoff Quantity Continuity')"
   ]
  },
  {
   "cell_type": "code",
   "execution_count": 24,
   "id": "e4f127db-4e31-4a54-8371-ce7f86d23d10",
   "metadata": {},
   "outputs": [
    {
     "name": "stdout",
     "output_type": "stream",
     "text": [
      "  ****************\n",
      "  Analysis Options\n",
      "  ****************\n",
      "  Flow Units ............... CFS\n",
      "  Process Models:\n",
      "    Rainfall/Runoff ........ YES\n",
      "    RDII ................... NO\n",
      "    Snowmelt ............... NO\n",
      "    Groundwater ............ NO\n",
      "    Flow Routing ........... YES\n",
      "    Ponding Allowed ........ NO\n",
      "    Water Quality .......... NO\n",
      "  Infiltration Method ...... HORTON\n",
      "  Flow Routing Method ...... KINWAVE\n",
      "  Starting Date ............ 01/01/2007 00:00:00\n",
      "  Ending Date .............. 01/01/2007 12:00:00\n",
      "  Antecedent Dry Days ...... 0.0\n",
      "  Report Time Step ......... 00:01:00\n",
      "  Wet Time Step ............ 00:01:00\n",
      "  Dry Time Step ............ 01:00:00\n",
      "  Routing Time Step ........ 15.00 sec\n"
     ]
    }
   ],
   "source": [
    "# print Analysis Options\n",
    "\n",
    "print(rpt._raw_parts['Analysis Options'])"
   ]
  },
  {
   "cell_type": "code",
   "execution_count": 25,
   "id": "3dc226b3-94db-4ef7-a05f-aaa7d66ba47e",
   "metadata": {},
   "outputs": [
    {
     "data": {
      "text/plain": [
       "'CFS'"
      ]
     },
     "execution_count": 25,
     "metadata": {},
     "output_type": "execute_result"
    }
   ],
   "source": [
    "# get just the flow units\n",
    "\n",
    "rpt.analysis_options['Flow Units']"
   ]
  },
  {
   "cell_type": "code",
   "execution_count": 26,
   "id": "a95ae96c-ad32-4f64-b57a-df4aa56a61dd",
   "metadata": {},
   "outputs": [
    {
     "name": "stdout",
     "output_type": "stream",
     "text": [
      "None\n"
     ]
    }
   ],
   "source": [
    "print(rpt.node_flooding_summary)\n"
   ]
  },
  {
   "cell_type": "code",
   "execution_count": 27,
   "id": "a1ed7817-338f-43aa-ac9e-44ed83b9c8b1",
   "metadata": {},
   "outputs": [
    {
     "name": "stdout",
     "output_type": "stream",
     "text": [
      "None\n"
     ]
    }
   ],
   "source": [
    "print(rpt.conduit_surcharge_summary)"
   ]
  },
  {
   "cell_type": "markdown",
   "id": "475e511e-7423-4893-9af6-47be8fd427b8",
   "metadata": {},
   "source": [
    "### 3.3 example for reading OUT file\n"
   ]
  },
  {
   "cell_type": "markdown",
   "id": "5ff17942-5372-4432-90ba-8cb7104269f5",
   "metadata": {},
   "source": [
    "## Available data in the file"
   ]
  },
  {
   "cell_type": "code",
   "execution_count": 28,
   "id": "f0d51f62-f30a-4441-854a-afd08a1a2853",
   "metadata": {},
   "outputs": [
    {
     "data": {
      "text/plain": [
       "{'subcatchment': ['rainfall',\n",
       "  'snow_depth',\n",
       "  'evaporation',\n",
       "  'infiltration',\n",
       "  'runoff',\n",
       "  'groundwater_outflow',\n",
       "  'groundwater_elevation',\n",
       "  'soil_moisture'],\n",
       " 'node': ['depth',\n",
       "  'head',\n",
       "  'volume',\n",
       "  'lateral_inflow',\n",
       "  'total_inflow',\n",
       "  'flooding'],\n",
       " 'link': ['flow', 'depth', 'velocity', 'volume', 'capacity'],\n",
       " 'pollutant': [],\n",
       " 'system': ['air_temperature',\n",
       "  'rainfall',\n",
       "  'snow_depth',\n",
       "  'infiltration',\n",
       "  'runoff',\n",
       "  'dry_weather_inflow',\n",
       "  'groundwater_inflow',\n",
       "  'RDII_inflow',\n",
       "  'direct_inflow',\n",
       "  'lateral_inflow',\n",
       "  'flooding',\n",
       "  'outflow',\n",
       "  'volume',\n",
       "  'evaporation',\n",
       "  'PET']}"
      ]
     },
     "execution_count": 28,
     "metadata": {},
     "output_type": "execute_result"
    }
   ],
   "source": [
    "out.variables"
   ]
  },
  {
   "cell_type": "code",
   "execution_count": null,
   "id": "1d627b22-6317-43c4-88ce-dd2e00d6866d",
   "metadata": {},
   "outputs": [],
   "source": []
  },
  {
   "cell_type": "code",
   "execution_count": null,
   "id": "00d8787c-4525-4045-9d97-b10396c3ddb0",
   "metadata": {},
   "outputs": [],
   "source": []
  },
  {
   "cell_type": "code",
   "execution_count": null,
   "id": "0424e69d-b042-4b65-9bac-f558630dc950",
   "metadata": {},
   "outputs": [],
   "source": []
  },
  {
   "cell_type": "code",
   "execution_count": null,
   "id": "27c1aa41-83ff-4a29-a81a-aafdf2660d34",
   "metadata": {},
   "outputs": [],
   "source": []
  },
  {
   "cell_type": "code",
   "execution_count": 29,
   "id": "50219d48-5dee-451c-b955-253eca4ef8ab",
   "metadata": {},
   "outputs": [
    {
     "name": "stdout",
     "output_type": "stream",
     "text": [
      "100-yr\n",
      "KINWAVE\n"
     ]
    }
   ],
   "source": [
    "# get the routing method, design storm\n",
    "print(inp.RAINGAGES['RainGage'].timeseries)\n",
    "print(inp.OPTIONS.FLOW_ROUTING)"
   ]
  },
  {
   "cell_type": "code",
   "execution_count": 34,
   "id": "1bdcb66c-2864-47d7-9520-6c7c5b1e99a2",
   "metadata": {},
   "outputs": [
    {
     "data": {
      "image/png": "[encoded data removed]",
      "text/plain": [
       "<Figure size 640x480 with 1 Axes>"
      ]
     },
     "metadata": {},
     "output_type": "display_data"
    }
   ],
   "source": [
    "# plot system outflow\n",
    "# total inflow at O1\n",
    "import matplotlib.pyplot as plt\n",
    "\n",
    "out.get_part(OBJECTS.NODE, 'O1', VARIABLES.NODE.TOTAL_INFLOW).plot()\n",
    "plt.xlabel('Time (hours)')\n",
    "plt.ylabel('SR_it')\n",
    "plt.title('System outflow')\n",
    "plt.grid(True)"
   ]
  },
  {
   "cell_type": "code",
   "execution_count": null,
   "id": "8978bada-103a-4839-b033-fe249c250587",
   "metadata": {},
   "outputs": [],
   "source": []
  }
 ],
 "metadata": {
  "kernelspec": {
   "display_name": "Python 3 (ipykernel)",
   "language": "python",
   "name": "python3"
  },
  "language_info": {
   "codemirror_mode": {
    "name": "ipython",
    "version": 3
   },
   "file_extension": ".py",
   "mimetype": "text/x-python",
   "name": "python",
   "nbconvert_exporter": "python",
   "pygments_lexer": "ipython3",
   "version": "3.12.7"
  }
 },
 "nbformat": 4,
 "nbformat_minor": 5
}
