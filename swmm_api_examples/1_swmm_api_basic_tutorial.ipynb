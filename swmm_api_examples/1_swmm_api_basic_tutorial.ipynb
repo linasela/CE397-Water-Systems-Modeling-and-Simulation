{
 "cells": [
  {
   "cell_type": "markdown",
   "id": "ce5899d1-34a1-4e45-ae25-afe386db10e6",
   "metadata": {},
   "source": [
    "# swmm_api basic tutorial\n",
    "\n",
    "In this Jupyter Notebook, our goal is to explore basic functionalities of `swmm_api`. You can find the documentation [here](https://markuspichler.gitlab.io/swmm_api/README.html#).\n",
    "\n",
    "For our analyses, we will use Example2-Post.inp, that we worked on in class. Verify your code by comparing to the .inp file"
   ]
  },
  {
   "cell_type": "markdown",
   "id": "aafbfdf4-b57f-4d1b-9555-791e6557f510",
   "metadata": {},
   "source": [
    "# 1. Reading the INP file"
   ]
  },
  {
   "cell_type": "code",
   "execution_count": null,
   "id": "7dd7e6ee-9f9a-4786-b1fb-544810e990d4",
   "metadata": {},
   "outputs": [],
   "source": [
    "import swmm_api\n",
    "print(f'{swmm_api.__version__ = }')"
   ]
  },
  {
   "cell_type": "markdown",
   "id": "77c7333d-97e6-4ab4-a5a3-9ef2c3100a87",
   "metadata": {},
   "source": [
    "### Import packages"
   ]
  },
  {
   "cell_type": "code",
   "execution_count": null,
   "id": "2aa3430d-c353-4f48-b19f-f7d71681ba37",
   "metadata": {},
   "outputs": [],
   "source": [
    "from swmm_api.input_file import read_inp_file, SwmmInput, section_labels as sections\n",
    "from swmm_api.input_file.sections import Outfall"
   ]
  },
  {
   "cell_type": "code",
   "execution_count": null,
   "id": "b21f6063-0482-4f6e-802a-48b4289b3a37",
   "metadata": {},
   "outputs": [],
   "source": [
    "# read the file \n",
    "# the inp object is like a dictionary\n",
    "\n",
    "inp = read_inp_file('Example2-Post.inp') "
   ]
  },
  {
   "cell_type": "markdown",
   "id": "6fe3e457-ac04-4467-bdfd-b3e5fe3f3c52",
   "metadata": {},
   "source": [
    "### Explore different sections"
   ]
  },
  {
   "cell_type": "code",
   "execution_count": null,
   "id": "030e93c1-05f0-4fa6-b9c0-0d11e08ddada",
   "metadata": {},
   "outputs": [],
   "source": [
    "# get the sections\n",
    "inp.keys()"
   ]
  },
  {
   "cell_type": "code",
   "execution_count": null,
   "id": "cb004508-d6e5-40cd-8e9a-3c7d2807721d",
   "metadata": {},
   "outputs": [],
   "source": [
    "# get different settings in a specific section\n",
    "# for example OPTIONS\n",
    "\n",
    "inp.OPTIONS\n",
    "\n",
    "# you can also access it like this\n",
    "# inp[sections.OPTIONS]"
   ]
  },
  {
   "cell_type": "code",
   "execution_count": null,
   "id": "53983e1c-5c03-434e-b09b-017cd13057a3",
   "metadata": {},
   "outputs": [],
   "source": [
    "# to convert a section to a string, use the .to_inp_lines() method\n",
    "\n",
    "print(inp[sections.OPTIONS].to_inp_lines())"
   ]
  },
  {
   "cell_type": "code",
   "execution_count": null,
   "id": "3dfe1457-76c6-4014-9420-d907bd708cc6",
   "metadata": {},
   "outputs": [],
   "source": [
    "# SUBCATCHMENTS\n",
    "\n",
    "print(inp[sections.SUBCATCHMENTS].to_inp_lines())"
   ]
  },
  {
   "cell_type": "code",
   "execution_count": null,
   "id": "e5c96956-4e7b-4233-a13e-2041cf8632cb",
   "metadata": {},
   "outputs": [],
   "source": [
    "# for table-like structures, you can convert a section to a pandas dataframe (not for OPTIONS, REPORTS...)\n",
    "\n",
    "inp.SUBCATCHMENTS.frame"
   ]
  },
  {
   "cell_type": "markdown",
   "id": "295819f5-d85d-41d8-bc50-e8027fab1c14",
   "metadata": {},
   "source": [
    "### Explore a single section"
   ]
  },
  {
   "cell_type": "code",
   "execution_count": null,
   "id": "11c29b29-e287-420b-8a0a-c22e41b7500a",
   "metadata": {},
   "outputs": [],
   "source": [
    "# for example CONDUITS\n",
    "\n",
    "print(inp.CONDUITS.to_inp_lines())"
   ]
  },
  {
   "cell_type": "code",
   "execution_count": null,
   "id": "654af36d-5c59-42cd-beb2-6c2098492445",
   "metadata": {},
   "outputs": [],
   "source": [
    "# explore C1\n",
    "\n",
    "inp.CONDUITS['C1']"
   ]
  },
  {
   "cell_type": "code",
   "execution_count": null,
   "id": "8476ba5b-480d-437d-9df3-57ad5f89f80b",
   "metadata": {},
   "outputs": [],
   "source": [
    "# get C1 length and roughness \n",
    "\n",
    "print(inp.CONDUITS['C1'].length)\n",
    "print(inp.CONDUITS['C1'].roughness)"
   ]
  },
  {
   "cell_type": "code",
   "execution_count": null,
   "id": "0486fe95-93c5-4ea1-b3ea-d6e1e0b2796f",
   "metadata": {},
   "outputs": [],
   "source": [
    "# RAINGAGES section\n",
    "\n",
    "inp.RAINGAGES"
   ]
  },
  {
   "cell_type": "code",
   "execution_count": null,
   "id": "14d6b0b7-90dd-45ff-b33b-077e808af0f3",
   "metadata": {},
   "outputs": [],
   "source": [
    "# get specific attribute\n",
    "\n",
    "timeseries_name = inp.RAINGAGES['RainGage'].timeseries\n",
    "print(timeseries_name)"
   ]
  },
  {
   "cell_type": "code",
   "execution_count": null,
   "id": "26f55b60-b01a-4c25-a1c1-e93ccac8367b",
   "metadata": {},
   "outputs": [],
   "source": [
    "# get TIMESERIES\n",
    "\n",
    "inp.TIMESERIES[timeseries_name].frame"
   ]
  },
  {
   "cell_type": "markdown",
   "id": "62a746ea-0865-4785-bbeb-4baf12015804",
   "metadata": {},
   "source": [
    "# Exercise:\n",
    "1. get the shape and the diameter of link C11\n",
    "2. get the elevation of junction J6\n",
    "3. get the flow routing method"
   ]
  },
  {
   "cell_type": "code",
   "execution_count": null,
   "id": "07f90141-9870-4b21-9ac1-bd978783038c",
   "metadata": {},
   "outputs": [],
   "source": []
  },
  {
   "cell_type": "code",
   "execution_count": null,
   "id": "2ab90000-154e-4ad1-9dbb-3af83a1be030",
   "metadata": {},
   "outputs": [],
   "source": []
  },
  {
   "cell_type": "code",
   "execution_count": null,
   "id": "8dc7ad45-d2ee-4a15-a655-70ff9adbcb27",
   "metadata": {},
   "outputs": [],
   "source": []
  },
  {
   "cell_type": "code",
   "execution_count": null,
   "id": "c90594e6-be9c-43cb-a385-9e36f82c029c",
   "metadata": {},
   "outputs": [],
   "source": []
  },
  {
   "cell_type": "markdown",
   "id": "091a5447-98f9-403c-aca6-1c56d7e6a7cb",
   "metadata": {},
   "source": [
    "# 2. Plotting the model"
   ]
  },
  {
   "cell_type": "markdown",
   "id": "a0339ed9-1d10-44b0-ab3a-d73eeeaa5fdf",
   "metadata": {},
   "source": [
    "import classes"
   ]
  },
  {
   "cell_type": "code",
   "execution_count": null,
   "id": "7a970e57-b860-42c4-b01f-8cbec2d64f0e",
   "metadata": {},
   "outputs": [],
   "source": [
    "from swmm_api import SwmmInput\n",
    "from swmm_api.input_file.macros import nodes_dict, PlottingMap, init_empty_map_plot, plot_longitudinal\n",
    "from swmm_api.input_file.macros import add_node_map, add_link_map, add_subcatchment_map, add_node_labels, plot_map"
   ]
  },
  {
   "cell_type": "code",
   "execution_count": null,
   "id": "a138b7f9-c0d2-4751-8a57-dabe304023ec",
   "metadata": {},
   "outputs": [],
   "source": [
    "# plot the model\n",
    "# default\n",
    "\n",
    "inp = read_inp_file('Example2-Post.inp') \n",
    "fig, ax = plot_map(inp)"
   ]
  },
  {
   "cell_type": "code",
   "execution_count": null,
   "id": "0193f8c2-10a4-42d1-8eb0-39b230af0a7a",
   "metadata": {},
   "outputs": [],
   "source": [
    "# make it prettier\n",
    "\n",
    "m = PlottingMap(inp).add_subcatchment_map(add_connector_arrows=True).add_link_map(add_arrows=True).add_node_map().add_node_labels(y_offset=80)\n",
    "# fig, ax = m.fig, m.ax"
   ]
  },
  {
   "cell_type": "code",
   "execution_count": null,
   "id": "8e9956fe-3619-47e8-b1ce-80f14c158fea",
   "metadata": {},
   "outputs": [],
   "source": [
    "# profile plot\n",
    "\n",
    "_, ax = plot_longitudinal(inp, start_node='J1', end_node='J10')\n",
    "ax.set_title(\"start_node='J1', end_node='J10'\")"
   ]
  },
  {
   "cell_type": "markdown",
   "id": "ca3a978e-2010-4967-9eec-28a45234fde9",
   "metadata": {},
   "source": [
    "# 3. Running a simulation and extracting results"
   ]
  },
  {
   "cell_type": "markdown",
   "id": "a51fc5d1-7874-4293-b719-b7e6431d6ee6",
   "metadata": {},
   "source": [
    "import classes"
   ]
  },
  {
   "cell_type": "code",
   "execution_count": null,
   "id": "252f5555-31c7-4a50-a093-81d6b6b3f800",
   "metadata": {},
   "outputs": [],
   "source": [
    "from swmm_api import SwmmInput, SwmmOutput, SwmmReport\n",
    "from swmm_api.run_swmm import swmm5_run_epa, swmm5_run_progress\n",
    "from swmm_api.run_swmm.run_temporary import swmm5_run_temporary"
   ]
  },
  {
   "cell_type": "code",
   "execution_count": null,
   "id": "315f6a42-69a3-4549-a3c3-605153b2b5dc",
   "metadata": {},
   "outputs": [],
   "source": [
    "inp = read_inp_file('Example2-Post.inp') "
   ]
  },
  {
   "cell_type": "markdown",
   "id": "8980a450-edd2-426a-afd2-dcc5e117f379",
   "metadata": {},
   "source": [
    "## 3.1. Running the simulation\n",
    "### Note:\n",
    "\n",
    "setting `run = swmm5_run_progress` will run pyswmm (swmm5.dll)\n",
    "\n",
    "setting `run = swmm5_run_epa` will run swmm5.exe\n",
    "\n",
    "see more info https://markuspichler.gitlab.io/swmm_api/api_reference/run.html"
   ]
  },
  {
   "cell_type": "code",
   "execution_count": null,
   "id": "5f098157-d77d-4b4e-86b3-2189afb0c82c",
   "metadata": {},
   "outputs": [],
   "source": [
    "# run simulation\n",
    "\n",
    "with swmm5_run_temporary(inp.copy(), run = swmm5_run_progress, label='example_run_swmm') as res:\n",
    "    out = res.out  # type: SwmmOutput\n",
    "    rpt = res.rpt  # type: SwmmReport"
   ]
  },
  {
   "cell_type": "markdown",
   "id": "d365ffe9-7976-4112-b0f8-b75f15b0c2f6",
   "metadata": {},
   "source": [
    "## 3.2 Reading the RPT file"
   ]
  },
  {
   "cell_type": "markdown",
   "id": "ca364f03-148c-4d76-8f4b-4b276b308455",
   "metadata": {},
   "source": [
    "### What data is available in the RPT file?\n",
    "\n",
    "see all options here https://markuspichler.gitlab.io/swmm_api/api_reference/rpt/swmm_api.SwmmReport.html#swmm_api.SwmmReport"
   ]
  },
  {
   "cell_type": "code",
   "execution_count": null,
   "id": "432a0c2a-377c-4202-a6da-2673e8708c9e",
   "metadata": {},
   "outputs": [],
   "source": [
    "# get available sections\n",
    "\n",
    "rpt.available_parts"
   ]
  },
  {
   "cell_type": "code",
   "execution_count": null,
   "id": "26dfa9aa-862c-43dc-b32e-4b9dc49712a4",
   "metadata": {},
   "outputs": [],
   "source": [
    "# print individual parts\n",
    "# example Runoff Quantity Continuity\n",
    "\n",
    "rpt.print_raw_part('Runoff Quantity Continuity')"
   ]
  },
  {
   "cell_type": "code",
   "execution_count": null,
   "id": "e4f127db-4e31-4a54-8371-ce7f86d23d10",
   "metadata": {},
   "outputs": [],
   "source": [
    "# print Analysis Options\n",
    "\n",
    "print(rpt._raw_parts['Analysis Options'])"
   ]
  },
  {
   "cell_type": "code",
   "execution_count": null,
   "id": "3dc226b3-94db-4ef7-a05f-aaa7d66ba47e",
   "metadata": {},
   "outputs": [],
   "source": [
    "# get just the flow units\n",
    "\n",
    "rpt.analysis_options['Flow Units']"
   ]
  },
  {
   "cell_type": "code",
   "execution_count": null,
   "id": "a95ae96c-ad32-4f64-b57a-df4aa56a61dd",
   "metadata": {},
   "outputs": [],
   "source": [
    "# get node flooding summary\n",
    "\n",
    "print(rpt.node_flooding_summary)"
   ]
  },
  {
   "cell_type": "code",
   "execution_count": null,
   "id": "a1ed7817-338f-43aa-ac9e-44ed83b9c8b1",
   "metadata": {},
   "outputs": [],
   "source": [
    "# get conduit surchange summary\n",
    "\n",
    "print(rpt.conduit_surcharge_summary)"
   ]
  },
  {
   "cell_type": "markdown",
   "id": "d9825c06-abd9-4a63-8a7b-36b8afd0fe24",
   "metadata": {},
   "source": [
    "# Exercise:\n",
    "1. get the link flow summary\n",
    "2. get the maximum flow for C11\n",
    "3. get the flow capacity for C11\n",
    "4. get the maximum total inflow for J1"
   ]
  },
  {
   "cell_type": "code",
   "execution_count": null,
   "id": "037f3e52-adaa-4b6c-ab95-e53e25ae1c24",
   "metadata": {},
   "outputs": [],
   "source": []
  },
  {
   "cell_type": "code",
   "execution_count": null,
   "id": "cd6e23a5-5b30-4271-be65-ccd55a78673e",
   "metadata": {},
   "outputs": [],
   "source": []
  },
  {
   "cell_type": "code",
   "execution_count": null,
   "id": "14c105d3-0d50-4829-b458-d6e95c84df4d",
   "metadata": {},
   "outputs": [],
   "source": []
  },
  {
   "cell_type": "code",
   "execution_count": null,
   "id": "6f6e7c3f-84cc-4918-900d-47198692e3cc",
   "metadata": {},
   "outputs": [],
   "source": []
  },
  {
   "cell_type": "code",
   "execution_count": null,
   "id": "fd32a0ab-9ce9-4fba-ac25-aff0e5a3685c",
   "metadata": {},
   "outputs": [],
   "source": []
  },
  {
   "cell_type": "markdown",
   "id": "475e511e-7423-4893-9af6-47be8fd427b8",
   "metadata": {},
   "source": [
    "## 3.3 Example for reading OUT file\n",
    "see all classess and attributes https://markuspichler.gitlab.io/swmm_api/api_reference/out/swmm_api.SwmmOutput.html"
   ]
  },
  {
   "cell_type": "markdown",
   "id": "5ff17942-5372-4432-90ba-8cb7104269f5",
   "metadata": {},
   "source": [
    "### Which variables are available in the OUT file for each object type?"
   ]
  },
  {
   "cell_type": "code",
   "execution_count": null,
   "id": "f0d51f62-f30a-4441-854a-afd08a1a2853",
   "metadata": {},
   "outputs": [],
   "source": [
    "out.variables"
   ]
  },
  {
   "cell_type": "markdown",
   "id": "17d5f0ef-4b1f-4932-a578-a43f6f3e089e",
   "metadata": {},
   "source": [
    "### What are the object labels?"
   ]
  },
  {
   "cell_type": "code",
   "execution_count": null,
   "id": "1d627b22-6317-43c4-88ce-dd2e00d6866d",
   "metadata": {},
   "outputs": [],
   "source": [
    "out.labels"
   ]
  },
  {
   "cell_type": "code",
   "execution_count": null,
   "id": "00d8787c-4525-4045-9d97-b10396c3ddb0",
   "metadata": {},
   "outputs": [],
   "source": [
    "out.model_properties"
   ]
  },
  {
   "cell_type": "markdown",
   "id": "958d7c68-6014-40f0-be7a-be15960e0098",
   "metadata": {},
   "source": [
    "## 3.4 Retrieving the data\n"
   ]
  },
  {
   "cell_type": "code",
   "execution_count": null,
   "id": "1faa15ad-0329-4c85-9616-572271cd4278",
   "metadata": {},
   "outputs": [],
   "source": [
    "from swmm_api.output_file import OBJECTS, VARIABLES"
   ]
  },
  {
   "cell_type": "markdown",
   "id": "3c64deaa-531e-496c-9d88-a76728f7c406",
   "metadata": {},
   "source": [
    "### Nodes\n",
    "https://markuspichler.gitlab.io/swmm_api/api_reference/out/swmm_api.output_file.definitions.NODE_VARIABLES.html#swmm_api.output_file.definitions.NODE_VARIABLES"
   ]
  },
  {
   "cell_type": "code",
   "execution_count": null,
   "id": "1ea417d9-28bd-44ae-b240-b13880ae492f",
   "metadata": {},
   "outputs": [],
   "source": [
    "# to get all data of a node\n",
    "out.get_part(OBJECTS.NODE, 'J1')"
   ]
  },
  {
   "cell_type": "code",
   "execution_count": null,
   "id": "059267dd-8842-47fb-9d05-ad2ce8d4864b",
   "metadata": {},
   "outputs": [],
   "source": [
    "# get specific variable\n",
    "out.get_part(OBJECTS.NODE, 'J1', VARIABLES.NODE.HEAD).to_frame()"
   ]
  },
  {
   "cell_type": "code",
   "execution_count": null,
   "id": "17f68c4c-1d57-4d8d-81c5-b3e16446c7ae",
   "metadata": {},
   "outputs": [],
   "source": [
    "# Reading only a slice of the results timeseries\n",
    "\n",
    "import pandas as pd\n",
    "\n",
    "custom_start = pd.Timestamp('2007-01-01 08:00')\n",
    "custom_end = pd.Timestamp('2007-01-01 10:00')"
   ]
  },
  {
   "cell_type": "code",
   "execution_count": null,
   "id": "9f7c0461-03aa-4733-99b7-4d9cac1f12bd",
   "metadata": {},
   "outputs": [],
   "source": [
    "# custom_start\n",
    "\n",
    "out.get_part(OBJECTS.NODE, 'J1', VARIABLES.NODE.HEAD, start=custom_start)"
   ]
  },
  {
   "cell_type": "code",
   "execution_count": null,
   "id": "35416228-ac22-4a13-a3c6-94da506d6cf3",
   "metadata": {},
   "outputs": [],
   "source": [
    "# custom_end\n",
    "\n",
    "out.get_part(OBJECTS.NODE, 'J1', VARIABLES.NODE.HEAD, end=custom_end)"
   ]
  },
  {
   "cell_type": "code",
   "execution_count": null,
   "id": "9ab4192a-44a5-4eda-bb7a-4dc977591945",
   "metadata": {},
   "outputs": [],
   "source": [
    "# custom_start_end\n",
    "\n",
    "out.get_part(OBJECTS.NODE, 'J1', VARIABLES.NODE.HEAD, start=custom_start, end=custom_end)"
   ]
  },
  {
   "cell_type": "markdown",
   "id": "cbc347f5-92c4-4154-8088-03f63af329a7",
   "metadata": {},
   "source": [
    "### Links\n",
    "https://markuspichler.gitlab.io/swmm_api/api_reference/out/swmm_api.output_file.definitions.LINK_VARIABLES.html"
   ]
  },
  {
   "cell_type": "code",
   "execution_count": null,
   "id": "27c1aa41-83ff-4a29-a81a-aafdf2660d34",
   "metadata": {},
   "outputs": [],
   "source": [
    "# to get all data of a node\n",
    "out.get_part(OBJECTS.LINK, 'C1')"
   ]
  },
  {
   "cell_type": "code",
   "execution_count": null,
   "id": "e696339d-8926-4e73-9993-ffd93ce8c083",
   "metadata": {},
   "outputs": [],
   "source": [
    "# get specific variable\n",
    "out.get_part(OBJECTS.LINK, 'C1', VARIABLES.LINK.FLOW).to_frame()"
   ]
  },
  {
   "cell_type": "markdown",
   "id": "86277fb9-89dc-49b2-a526-fa06ab2064a8",
   "metadata": {},
   "source": [
    "## 3.5 Convert data\n",
    "You can convert the data to dataframe or numpy array. This is useful to store and manipulate it to your specific application."
   ]
  },
  {
   "cell_type": "code",
   "execution_count": null,
   "id": "6e2f6684-1045-4eaa-9e6a-fac49b58410f",
   "metadata": {},
   "outputs": [],
   "source": [
    "# convert all data to in numpy array format\n",
    "type(out.to_numpy())"
   ]
  },
  {
   "cell_type": "code",
   "execution_count": null,
   "id": "75329f6c-5304-4a8f-b560-46b3c979f883",
   "metadata": {},
   "outputs": [],
   "source": [
    "# retrieve data in Pandas dataframe format\n",
    "out.to_frame()"
   ]
  },
  {
   "cell_type": "markdown",
   "id": "d4d34813-0765-4ce2-b734-f724aefebbcc",
   "metadata": {},
   "source": [
    "# 4. Plotting results\n",
    "Select some output time series variables, such as subcatchment runoff, link flow, outfall total inflow to plot"
   ]
  },
  {
   "cell_type": "markdown",
   "id": "cb300db7-9c2d-418a-a0e9-3ec5040e7cc9",
   "metadata": {},
   "source": [
    "## 4.1 Timeseries plots"
   ]
  },
  {
   "cell_type": "code",
   "execution_count": null,
   "id": "1bdcb66c-2864-47d7-9520-6c7c5b1e99a2",
   "metadata": {},
   "outputs": [],
   "source": [
    "# plot system outflow and inflow\n",
    "# system outflow = total inflow at O1\n",
    "# system inflow = system runoff\n",
    "\n",
    "import matplotlib.pyplot as plt\n",
    "\n",
    "out.get_part(OBJECTS.NODE, 'O1', VARIABLES.NODE.TOTAL_INFLOW).plot()\n",
    "out.get_part(OBJECTS.SYSTEM, None, VARIABLES.SYSTEM.RUNOFF).plot()\n",
    "plt.xlabel('Time (hours)')\n",
    "plt.ylabel('CFS')\n",
    "plt.title('System inflow/outflow')\n",
    "plt.legend()\n",
    "plt.grid(True)"
   ]
  },
  {
   "cell_type": "code",
   "execution_count": null,
   "id": "8978bada-103a-4839-b033-fe249c250587",
   "metadata": {},
   "outputs": [],
   "source": [
    "# plot runoff from individual subcatchments\n",
    "\n",
    "out.get_part(OBJECTS.SUBCATCHMENT, 'S1', VARIABLES.SUBCATCHMENT.RUNOFF).plot()\n",
    "out.get_part(OBJECTS.SUBCATCHMENT, 'S2', VARIABLES.SUBCATCHMENT.RUNOFF).plot()\n",
    "out.get_part(OBJECTS.SUBCATCHMENT, 'S3', VARIABLES.SUBCATCHMENT.RUNOFF).plot()\n",
    "\n",
    "plt.xlabel('Time (hours)')\n",
    "plt.ylabel('Runoff CFS')\n",
    "plt.title('Runoff')\n",
    "plt.legend()\n"
   ]
  },
  {
   "cell_type": "code",
   "execution_count": null,
   "id": "9c1194be-8587-4966-8aa4-bad5f1800fd5",
   "metadata": {},
   "outputs": [],
   "source": [
    "out.get_part(OBJECTS.SYSTEM, None, VARIABLES.SYSTEM.FLOODING).plot()"
   ]
  },
  {
   "cell_type": "code",
   "execution_count": null,
   "id": "5f4f66e0-b3b4-46c4-b6ad-f787cffb7165",
   "metadata": {},
   "outputs": [],
   "source": [
    "out.index"
   ]
  },
  {
   "cell_type": "markdown",
   "id": "c43d2304-169e-42be-82b7-52e60a2ec21b",
   "metadata": {},
   "source": [
    "## Exercise:\n",
    "1. choose three conduits and plot the flow on the same plot\n",
    "2. choose three junctions and plot the depth\n",
    "3. make another timeseries plot"
   ]
  },
  {
   "cell_type": "code",
   "execution_count": null,
   "id": "f90f2b5e-dab6-40e3-b478-14c0b3d0e2d3",
   "metadata": {},
   "outputs": [],
   "source": []
  },
  {
   "cell_type": "code",
   "execution_count": null,
   "id": "c623b54b-5ffa-445d-a6aa-273260b80144",
   "metadata": {},
   "outputs": [],
   "source": []
  },
  {
   "cell_type": "code",
   "execution_count": null,
   "id": "6937df8e-79fa-4c4c-98c8-0c1fd5716ff9",
   "metadata": {},
   "outputs": [],
   "source": []
  },
  {
   "cell_type": "code",
   "execution_count": null,
   "id": "f8b45a9e-8d44-46a7-b2ff-fcbccd2d638e",
   "metadata": {},
   "outputs": [],
   "source": []
  },
  {
   "cell_type": "code",
   "execution_count": null,
   "id": "572fbf96-6cf2-459c-845a-6e57c317776d",
   "metadata": {},
   "outputs": [],
   "source": []
  },
  {
   "cell_type": "code",
   "execution_count": null,
   "id": "a191b281-427d-44bd-b1e1-590ffbb41af6",
   "metadata": {},
   "outputs": [],
   "source": []
  },
  {
   "cell_type": "markdown",
   "id": "6cb01e7d-a478-4c80-9a0f-be70720df602",
   "metadata": {},
   "source": [
    "## 4.2 Spatial plots"
   ]
  },
  {
   "cell_type": "code",
   "execution_count": null,
   "id": "03738f14-3045-4d4a-8aa0-c62b22f265d8",
   "metadata": {},
   "outputs": [],
   "source": [
    "from swmm_api.input_file.macros.plotting_map import *\n",
    "\n",
    "link_flow = out.get_part(OBJECTS.LINK, None, VARIABLES.LINK.FLOW)\n",
    "node_flooding = out.get_part(OBJECTS.NODE, None, VARIABLES.NODE.FLOODING)\n",
    "sc_runoff = out.get_part(OBJECTS.SUBCATCHMENT, None, VARIABLES.SUBCATCHMENT.RUNOFF)\n",
    "\n",
    "time = '2007-01-01 00:03:00'\n",
    "\n",
    "_, ax = init_empty_map_plot()\n",
    "add_link_map(ax, inp, values_dict=link_flow.loc[time].to_dict(), make_width_proportional=True, cmap='YlGn', colorbar_kwargs={'label':'Link Flow'})\n",
    "add_subcatchment_map(ax, inp, values_dict=sc_runoff.loc[time].to_dict(), cmap='BuPu', colorbar_kwargs={'label':'SC Runoff'})\n",
    "add_node_map(ax, inp, make_size_proportional=True, cmap='Reds', values_dict=node_flooding.loc[time].to_dict(), colorbar_kwargs={'label':'Node Flooding'})\n",
    "add_node_labels(ax, inp, size=5, y_offset=30)\n",
    "ax.set_title(f'Time: {time}')"
   ]
  },
  {
   "cell_type": "code",
   "execution_count": null,
   "id": "6e087aec-ea10-4f54-be02-72f756519cc3",
   "metadata": {},
   "outputs": [],
   "source": [
    "from swmm_api.input_file.macros.plotting_map import init_empty_map_plot, add_subcatchments_labels, add_node_labels, add_link_map, add_node_map, add_subcatchment_map\n",
    "import pandas as pd\n",
    "\n",
    "sc_runoff = rpt.subcatchment_runoff_summary[f'Total_Runoff_10^6 {rpt.unit.VOL2}']\n",
    "node_flooded_hrs = rpt.node_inflow_summary['Time of Max_Occurrence_days hr:min'] / pd.Timedelta(minutes=1)\n",
    "link_full = rpt.link_flow_summary['Max/_Full_Flow']\n",
    "\n",
    "_, ax = init_empty_map_plot()\n",
    "add_link_map(ax, inp, values_dict=link_full.to_dict(), make_width_proportional=False, cmap='YlGn', colorbar_kwargs={'label':'Link Ratio Max Full in %'}, add_arrows=True)\n",
    "add_subcatchment_map(ax, inp, values_dict=sc_runoff.to_dict(), cmap='YlGn', colorbar_kwargs={'label':f'SC Total Runoff in 10^6 {rpt.unit.VOL2}'})\n",
    "add_node_map(ax, inp, make_size_proportional=True, cmap='Reds', values_dict=node_flooded_hrs.to_dict(), colorbar_kwargs={'label':'Node time max occurence in minutes'})\n",
    "add_node_labels(ax, inp, size=5, y_offset=30)\n",
    "add_subcatchments_labels(ax, inp, size=5, y_offset=40, color='black')"
   ]
  },
  {
   "cell_type": "code",
   "execution_count": null,
   "id": "2aa7118e-79b2-4c31-88ce-09054045ce9a",
   "metadata": {},
   "outputs": [],
   "source": []
  }
 ],
 "metadata": {
  "kernelspec": {
   "display_name": "Python 3 (ipykernel)",
   "language": "python",
   "name": "python3"
  },
  "language_info": {
   "codemirror_mode": {
    "name": "ipython",
    "version": 3
   },
   "file_extension": ".py",
   "mimetype": "text/x-python",
   "name": "python",
   "nbconvert_exporter": "python",
   "pygments_lexer": "ipython3",
   "version": "3.12.7"
  }
 },
 "nbformat": 4,
 "nbformat_minor": 5
}
