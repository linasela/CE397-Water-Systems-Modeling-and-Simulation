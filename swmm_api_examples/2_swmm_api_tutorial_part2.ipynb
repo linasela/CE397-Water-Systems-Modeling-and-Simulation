{
 "cells": [
  {
   "cell_type": "markdown",
   "id": "b6a00e5e-35e2-49bd-baf8-d70bf2b51990",
   "metadata": {},
   "source": [
    "# swmm_api part 2\n",
    "In this Jupyter Notebook, our goal is to explore basic functionalities of `swmm_api`. You can find the documentation [here](https://markuspichler.gitlab.io/swmm_api/README.html#).\n",
    "\n",
    "For our analyses, we will use Example2-Post.inp and Pump_Control_Model.inp, that we worked on in class. Verify your code by comparing to the .inp file"
   ]
  },
  {
   "cell_type": "markdown",
   "id": "81c29f67-8dd9-4734-a74f-c6e5a79afa81",
   "metadata": {},
   "source": [
    "# 1. Example 1\n",
    "## 1.1 import packages and .inp file"
   ]
  },
  {
   "cell_type": "code",
   "execution_count": null,
   "id": "59eae2ca-3e32-48a3-9941-94fd344f3033",
   "metadata": {},
   "outputs": [],
   "source": [
    "import swmm_api\n",
    "from swmm_api.input_file import read_inp_file, SwmmInput\n",
    "from swmm_api import SwmmInput, SwmmOutput, SwmmReport\n",
    "from swmm_api.run_swmm import swmm5_run_epa, swmm5_run_progress\n",
    "from swmm_api.run_swmm.run_temporary import swmm5_run_temporary\n",
    "from swmm_api.output_file import OBJECTS, VARIABLES\n",
    "import matplotlib.pyplot as plt "
   ]
  },
  {
   "cell_type": "code",
   "execution_count": null,
   "id": "11e09ca6-1e47-465e-9f1e-438ba9ef9448",
   "metadata": {},
   "outputs": [],
   "source": [
    "# read the file \n",
    "inp = read_inp_file('Example2-Post.inp') "
   ]
  },
  {
   "cell_type": "markdown",
   "id": "9246ddd6-6129-4ca2-a579-b33d6c20833c",
   "metadata": {},
   "source": [
    "## 1.2 Run 2-yr storm simulation"
   ]
  },
  {
   "cell_type": "code",
   "execution_count": null,
   "id": "d84a9a2a-2cc6-4d57-b415-e5f5795a8460",
   "metadata": {},
   "outputs": [],
   "source": [
    "# check current setting\n",
    "inp.OPTIONS['FLOW_ROUTING']"
   ]
  },
  {
   "cell_type": "code",
   "execution_count": null,
   "id": "539049fd-1299-4fba-87b3-dda3a33abfc8",
   "metadata": {},
   "outputs": [],
   "source": [
    "inp.RAINGAGES['RainGage'].timeseries"
   ]
  },
  {
   "cell_type": "code",
   "execution_count": null,
   "id": "ccf3dfff-2b31-4f9f-a518-bf2f35535b48",
   "metadata": {},
   "outputs": [],
   "source": [
    "# check which storm events are available\n",
    "inp.TIMESERIES.frame"
   ]
  },
  {
   "cell_type": "code",
   "execution_count": null,
   "id": "0bd1ae82-65db-4194-9b95-985029f4118b",
   "metadata": {},
   "outputs": [],
   "source": [
    "# set to 2-yr\n",
    "inp.RAINGAGES['RainGage'].timeseries = '2-yr'"
   ]
  },
  {
   "cell_type": "code",
   "execution_count": null,
   "id": "b948102e-ad03-42a3-a36c-e0832f4b637a",
   "metadata": {},
   "outputs": [],
   "source": [
    "# run simulation\n",
    "with swmm5_run_temporary(inp.copy(), run = swmm5_run_progress, label='example_run_swmm') as res:\n",
    "    out = res.out  # type: SwmmOutput\n",
    "    rpt = res.rpt  # type: SwmmReport"
   ]
  },
  {
   "cell_type": "code",
   "execution_count": null,
   "id": "f6752391-209c-4629-b2d1-563753567d8a",
   "metadata": {},
   "outputs": [],
   "source": [
    "# # 4. Plotting results\n",
    "# Select some output time series variables, such as subcatchment runoff, link flow, outfall total inflow to plot\n",
    "# build in functions\n",
    "\n",
    "plt.figure() \n",
    "out.get_part(OBJECTS.NODE, 'O1', VARIABLES.NODE.TOTAL_INFLOW).plot()\n",
    "out.get_part(OBJECTS.SYSTEM, None, VARIABLES.SYSTEM.RUNOFF).plot()\n",
    "plt.xlabel('Time (hours)')\n",
    "plt.ylabel('CFS')\n",
    "plt.title('System inflow/outflow - 2-yr')\n",
    "plt.grid(True)\n",
    "plt.legend()"
   ]
  },
  {
   "cell_type": "markdown",
   "id": "d4187c23-d17f-418f-809f-47ea876167ba",
   "metadata": {},
   "source": [
    "## 1.3 Custom data and plots"
   ]
  },
  {
   "cell_type": "code",
   "execution_count": null,
   "id": "a5259ed0-3873-41a5-96d1-038f661c45e0",
   "metadata": {},
   "outputs": [],
   "source": [
    "# save specific variable store as dataframe so you can use it later\n",
    "\n",
    "system_outflow = out.get_part(OBJECTS.NODE, 'O1', VARIABLES.NODE.TOTAL_INFLOW).to_frame()\n",
    "system_inflow = out.get_part(OBJECTS.SYSTEM, None, VARIABLES.SYSTEM.RUNOFF).to_frame()"
   ]
  },
  {
   "cell_type": "code",
   "execution_count": null,
   "id": "d4a05bfc-8f1a-41c0-b090-d39c0f756de6",
   "metadata": {},
   "outputs": [],
   "source": [
    "# custom plot\n",
    "\n",
    "plt.figure() \n",
    "plt.plot(system_inflow, color='blue', label='Inflow', linewidth=2, alpha=0.5)\n",
    "plt.plot(system_outflow, color='red', label='Outflow', linewidth=2, alpha=0.5)\n",
    "# Formatting the plot\n",
    "plt.xlabel('Time')\n",
    "plt.ylabel('Flow (cfs)')\n",
    "plt.legend()\n",
    "#plt.savefig('figures/CTown_time_series_demand.png', dpi = 400)\n",
    "plt.show()\n"
   ]
  },
  {
   "cell_type": "markdown",
   "id": "4e1c68f3-2b39-4b7a-be30-3cdbdcf3ec67",
   "metadata": {},
   "source": [
    "## 1.4 Compare 2-yr and 100-yr events"
   ]
  },
  {
   "cell_type": "code",
   "execution_count": null,
   "id": "ad423478-b975-4f07-8b42-6590a4b6732a",
   "metadata": {},
   "outputs": [],
   "source": [
    "# set 100-yr storm event\n",
    "\n",
    "inp.RAINGAGES['RainGage'].timeseries = '100-yr'\n",
    "\n",
    "# run simulation\n",
    "with swmm5_run_temporary(inp.copy(), run = swmm5_run_progress, label='example_run_swmm') as res:\n",
    "    out1 = res.out  # type: SwmmOutput\n",
    "    rpt1 = res.rpt  # type: SwmmReport"
   ]
  },
  {
   "cell_type": "markdown",
   "id": "bbc9d6bc-44cb-486f-a3a0-b4da3b35c45f",
   "metadata": {},
   "source": [
    "### System outflow"
   ]
  },
  {
   "cell_type": "code",
   "execution_count": null,
   "id": "a6441c6e-c89c-48c7-8be2-ef4a362f628c",
   "metadata": {},
   "outputs": [],
   "source": [
    "plt.figure() \n",
    "out.get_part(OBJECTS.NODE, 'O1', VARIABLES.NODE.TOTAL_INFLOW).plot()\n",
    "out1.get_part(OBJECTS.NODE, 'O1', VARIABLES.NODE.TOTAL_INFLOW).plot()\n",
    "plt.xlabel('Time (hours)')\n",
    "plt.ylabel('CFS')\n",
    "plt.title('System outflow - 2 & 100-yr')\n",
    "plt.grid(True)\n",
    "plt.legend()"
   ]
  },
  {
   "cell_type": "markdown",
   "id": "3cb178ed-4c4e-4e8b-98a1-8efbbafa780b",
   "metadata": {},
   "source": [
    "### System inflow"
   ]
  },
  {
   "cell_type": "code",
   "execution_count": null,
   "id": "cca7dade-987e-499a-a976-a2fc34106ce1",
   "metadata": {},
   "outputs": [],
   "source": [
    "plt.figure() \n",
    "out.get_part(OBJECTS.SYSTEM, None, VARIABLES.SYSTEM.RUNOFF).plot()\n",
    "out1.get_part(OBJECTS.SYSTEM, None, VARIABLES.SYSTEM.RUNOFF).plot()\n",
    "plt.xlabel('Time (hours)')\n",
    "plt.ylabel('CFS')\n",
    "plt.title('System inflow - 2 & 100-yr')\n",
    "plt.grid(True)\n",
    "plt.legend()"
   ]
  },
  {
   "cell_type": "markdown",
   "id": "4c97ceb4-f0fd-4d32-9561-ec05c02c23bf",
   "metadata": {},
   "source": [
    "### Exercise:\n",
    "1. Compare kinematic wave with dynamic wave\n",
    "2. Select some output time series variables, such as subcatchment runoff, link flow, outfall total inflow to plot"
   ]
  },
  {
   "cell_type": "code",
   "execution_count": null,
   "id": "204a4585-7707-462c-ae20-0b1430e1d150",
   "metadata": {},
   "outputs": [],
   "source": []
  },
  {
   "cell_type": "code",
   "execution_count": null,
   "id": "4ff07cca-5954-4fc6-b8db-7f0d8569a395",
   "metadata": {},
   "outputs": [],
   "source": []
  },
  {
   "cell_type": "markdown",
   "id": "071c1750-9365-4557-8b44-931cb3689f46",
   "metadata": {},
   "source": [
    "## 1.5 Change culvert diameter and compare results"
   ]
  },
  {
   "cell_type": "code",
   "execution_count": null,
   "id": "6a078aa0-e46d-45cc-be43-32e4224810d0",
   "metadata": {},
   "outputs": [],
   "source": [
    "# get current C11 diameter\n",
    "\n",
    "inp.XSECTIONS['C11'].height"
   ]
  },
  {
   "cell_type": "code",
   "execution_count": null,
   "id": "17b27075-12ed-45c0-8a16-589e5d85d1b6",
   "metadata": {},
   "outputs": [],
   "source": [
    "# set C11 to 3.5 ft and get flooding loss before and after the change\n",
    "\n",
    "inp.XSECTIONS['C11'].height = 3.5\n",
    "print(inp.XSECTIONS['C11'].height)"
   ]
  },
  {
   "cell_type": "code",
   "execution_count": null,
   "id": "2500bdeb-f83c-4d3f-b1cb-d25d8bd6ab75",
   "metadata": {},
   "outputs": [],
   "source": [
    "# set storm event\n",
    "inp.RAINGAGES['RainGage'].timeseries = '100-yr'"
   ]
  },
  {
   "cell_type": "code",
   "execution_count": null,
   "id": "07972b0e-7ae1-4dc1-866e-3c6b12a33e43",
   "metadata": {},
   "outputs": [],
   "source": [
    "# run simulation\n",
    "\n",
    "with swmm5_run_temporary(inp.copy(), run = swmm5_run_progress, label='example_run_swmm') as res:\n",
    "    out2 = res.out  # type: SwmmOutput\n",
    "    rpt2 = res.rpt  # type: SwmmReport"
   ]
  },
  {
   "cell_type": "code",
   "execution_count": null,
   "id": "531b56a1-6117-4443-84c5-ace83c0d9b9b",
   "metadata": {},
   "outputs": [],
   "source": [
    "# plot total flooding loss for the two scenarios\n",
    "\n",
    "print(rpt1.flow_routing_continuity['Flooding Loss'])\n",
    "\n",
    "print(rpt2.flow_routing_continuity['Flooding Loss'])"
   ]
  },
  {
   "cell_type": "code",
   "execution_count": null,
   "id": "ad02686d-5139-4b02-b4d9-dab567e19c55",
   "metadata": {},
   "outputs": [],
   "source": [
    "# plot results\n",
    "\n",
    "plt.figure() \n",
    "out1.get_part(OBJECTS.NODE, 'O1', VARIABLES.NODE.TOTAL_INFLOW).plot()\n",
    "out2.get_part(OBJECTS.NODE, 'O1', VARIABLES.NODE.TOTAL_INFLOW).plot()\n",
    "plt.xlabel('Time (hours)')\n",
    "plt.ylabel('CFS')\n",
    "plt.title('System outflow - 100-yr')\n",
    "plt.grid(True)\n",
    "plt.legend()"
   ]
  },
  {
   "cell_type": "markdown",
   "id": "ac2c2cf5-9c4b-4ae2-b3b0-ae693433b8d7",
   "metadata": {},
   "source": [
    "### Custom plot"
   ]
  },
  {
   "cell_type": "code",
   "execution_count": null,
   "id": "a6117d4a-b135-4e6b-aa57-44b39a0871b2",
   "metadata": {},
   "outputs": [],
   "source": [
    "system_outflow1 = out1.get_part(OBJECTS.NODE, 'O1', VARIABLES.NODE.TOTAL_INFLOW).to_frame()\n",
    "system_outflow2 = out2.get_part(OBJECTS.NODE, 'O1', VARIABLES.NODE.TOTAL_INFLOW).to_frame()\n",
    "# custom plot\n",
    "\n",
    "plt.figure() \n",
    "plt.plot(system_outflow1, color='blue', label = 'C11 = 4.75', linewidth=2, alpha=0.5)\n",
    "plt.plot(system_outflow2, color='red', label = 'C11 = 3.5', linewidth=2, alpha=0.5)\n",
    "# Formatting the plot\n",
    "plt.xlabel('Time')\n",
    "plt.ylabel('Flow (cfs)')\n",
    "plt.legend()\n",
    "plt.show()"
   ]
  },
  {
   "cell_type": "markdown",
   "id": "99f3cc89-0523-49de-8283-c6d93e4a4f8d",
   "metadata": {},
   "source": [
    "# 2. Example 2\n",
    "In this example, we will use `'Pump_Control_Model.inp'` example. This example illustrates Rule-based Control feature for simulating real-time control. The data file applies to a combined sewer system with a diversion pump installed to help prevent local overflows. The scenario modelled contains only dry weather flow, and illustrates the use of DWF time-of-day patterns to have DWF vary diurnally. We will:\n",
    "\n",
    "1. Examine the Controls Editor to view the rules that control the on/off status of the pump.\n",
    "\n",
    "2. View the hourly DWF time patterns that are assigned to each node that receives DWF.\n",
    "\n",
    "3. Run the model for a 24-hour simulation.\n",
    "\n",
    "4. Create a time series plot of water depth at the storage node and flow in the pump on the same graph. See if the plot reflects the desired control rules.\n",
    "\n",
    "5. Modify pump model"
   ]
  },
  {
   "cell_type": "markdown",
   "id": "b1082940-531e-497e-ab8c-e37535b97e6b",
   "metadata": {},
   "source": [
    "## 2.1 Import packages and .inp file"
   ]
  },
  {
   "cell_type": "code",
   "execution_count": null,
   "id": "cdf101dd-5210-4416-9890-b94344ea401a",
   "metadata": {},
   "outputs": [],
   "source": [
    "import matplotlib.pyplot as plt\n",
    "from swmm_api import SwmmInput, SwmmOutput, SwmmReport\n",
    "from swmm_api.input_file.macros.plotting_map import init_empty_map_plot, add_node_map, add_link_map, add_node_labels, add_link_labels, add_labels\n",
    "from swmm_api.output_file import OBJECTS, VARIABLES\n",
    "from swmm_api.run_swmm import swmm5_run_progress\n",
    "from swmm_api.run_swmm.run_temporary import swmm5_run_temporary"
   ]
  },
  {
   "cell_type": "code",
   "execution_count": null,
   "id": "12911df8-5302-4b0f-9d24-3c3b04186e10",
   "metadata": {},
   "outputs": [],
   "source": [
    "inp = SwmmInput('Pump_Control_Model.inp')"
   ]
  },
  {
   "cell_type": "code",
   "execution_count": null,
   "id": "51fd2ee7-d5af-49d8-bacd-5145d754c35b",
   "metadata": {},
   "outputs": [],
   "source": [
    "fig, ax = init_empty_map_plot()\n",
    "add_link_map(ax, inp, add_arrows=True)\n",
    "add_node_map(ax, inp)\n",
    "add_node_labels(ax, inp, ha='left', y_offset=15, in_layout=False)\n",
    "add_labels(ax, inp)\n",
    "fig.set_dpi(70)\n",
    "fig.set_size_inches(10, 10)"
   ]
  },
  {
   "cell_type": "markdown",
   "id": "4f72c1b5-85c2-44e4-9216-4acae121011e",
   "metadata": {},
   "source": [
    "## 2.2 Get pump and storage info"
   ]
  },
  {
   "cell_type": "code",
   "execution_count": null,
   "id": "17ad404a-a312-4979-803b-358f6d7d93cd",
   "metadata": {},
   "outputs": [],
   "source": [
    "inp.STORAGE['SU1']"
   ]
  },
  {
   "cell_type": "code",
   "execution_count": null,
   "id": "0f25c8f0-3ba1-4d65-9467-6b977ccb98c2",
   "metadata": {},
   "outputs": [],
   "source": [
    "inp.PUMPS['PUMP1']"
   ]
  },
  {
   "cell_type": "code",
   "execution_count": null,
   "id": "1d83d510-44f3-4c4e-9ff4-653185a66395",
   "metadata": {},
   "outputs": [],
   "source": [
    "inp.CURVES['PUMP_CURVE1']"
   ]
  },
  {
   "cell_type": "code",
   "execution_count": null,
   "id": "db6dda28-94b4-40de-9cea-4cad1d60999d",
   "metadata": {},
   "outputs": [],
   "source": [
    "# plot pump curve\n",
    "\n",
    "pump_curve = inp.CURVES['PUMP_CURVE1'].points\n",
    "\n",
    "flow, head = zip(*pump_curve)\n",
    "\n",
    "# Plot\n",
    "plt.figure(figsize=(6, 4))\n",
    "plt.plot(flow, head, marker='o')\n",
    "plt.title('Pump Curve: PUMP_CURVE1')\n",
    "plt.xlabel('Depth (ft)')\n",
    "plt.ylabel('Flow (CFS)')\n",
    "plt.grid(True)\n",
    "plt.show()"
   ]
  },
  {
   "cell_type": "code",
   "execution_count": null,
   "id": "6b6dcd63-a363-4244-bfe2-fb97d65e8443",
   "metadata": {},
   "outputs": [],
   "source": [
    "# pump control\n",
    "\n",
    "print(inp.CONTROLS.to_inp_lines())"
   ]
  },
  {
   "cell_type": "markdown",
   "id": "8ce9545d-70c2-407a-8f7b-9f143771cfd8",
   "metadata": {},
   "source": [
    "## 2.3 Get DWF time patterns"
   ]
  },
  {
   "cell_type": "code",
   "execution_count": null,
   "id": "24438d51-73f5-4058-b571-606ce89f169b",
   "metadata": {},
   "outputs": [],
   "source": [
    "dwf = inp.PATTERNS['DWF']\n",
    "dwf"
   ]
  },
  {
   "cell_type": "code",
   "execution_count": null,
   "id": "0d72f919-7a70-48d2-bad3-1869423c0b0a",
   "metadata": {},
   "outputs": [],
   "source": [
    "fig, ax = plt.subplots()\n",
    "x = list(range(len(dwf.factors)))\n",
    "rects = ax.bar(x, dwf.factors)\n",
    "ax.set_xticks(x)\n",
    "_ = ax.bar_label(rects, padding=3, rotation=90)"
   ]
  },
  {
   "cell_type": "markdown",
   "id": "21bbc4b8-9087-4e4e-9e29-c800fc6d57f6",
   "metadata": {},
   "source": [
    "## 2.4 Run simulation"
   ]
  },
  {
   "cell_type": "code",
   "execution_count": null,
   "id": "5a6cb899-c063-4e75-a9b2-25df9d62cf0f",
   "metadata": {},
   "outputs": [],
   "source": [
    "with swmm5_run_temporary(inp.copy(), run=swmm5_run_progress, label='example_run_swmm') as res:\n",
    "    out = res.out  # type: SwmmOutput\n",
    "    rpt = res.rpt  # type: SwmmReport"
   ]
  },
  {
   "cell_type": "markdown",
   "id": "150fc2a5-26a4-411b-bc5d-df6c897ac327",
   "metadata": {},
   "source": [
    "## 2.5 Plot results"
   ]
  },
  {
   "cell_type": "code",
   "execution_count": null,
   "id": "9897dc6c-1ad0-40c5-97f0-7dd66afe3502",
   "metadata": {},
   "outputs": [],
   "source": [
    "# storage depth\n",
    "\n",
    "storage_depth = out.get_part(OBJECTS.NODE, 'SU1', VARIABLES.NODE.DEPTH).to_frame()\n",
    "\n",
    "plt.plot(storage_depth, color='blue', label = 'storage depth', linewidth=2, alpha=0.5)\n",
    "plt.xlabel('Time')\n",
    "plt.ylabel('Depth (ft)')\n",
    "plt.legend()\n",
    "plt.show()"
   ]
  },
  {
   "cell_type": "code",
   "execution_count": null,
   "id": "8a6399bd-7f31-499f-a2c9-232335d59eac",
   "metadata": {},
   "outputs": [],
   "source": [
    "# pump flow\n",
    "\n",
    "pump_flow = out.get_part(OBJECTS.LINK, 'PUMP1', VARIABLES.LINK.FLOW).to_frame()\n",
    "plt.plot(pump_flow, color='red', label = 'pump flow', linewidth=2, alpha=0.5)\n",
    "# Formatting the plot\n",
    "plt.xlabel('Time')\n",
    "plt.ylabel('Flow (cfs)')\n",
    "plt.legend()\n",
    "plt.show()"
   ]
  },
  {
   "cell_type": "markdown",
   "id": "3bc84338-e0b7-43e1-8b66-1f331afa4a46",
   "metadata": {},
   "source": [
    "### Question:\n",
    "In the beginning of the simulation, the pump turns on after water depth in the storage reaches 4ft. Why doesn't it turn off after the water level drops below 4ft?"
   ]
  },
  {
   "cell_type": "code",
   "execution_count": null,
   "id": "bfaba589-949f-4be5-934a-939d7d761b29",
   "metadata": {},
   "outputs": [],
   "source": [
    "# system outflow\n",
    "\n",
    "system_outflow = out.get_part(OBJECTS.NODE, 'KRO2005', VARIABLES.NODE.TOTAL_INFLOW).to_frame()\n",
    "plt.plot(system_outflow, color='red', label = 'system outflow', linewidth=2, alpha=0.5)\n",
    "# Formatting the plot\n",
    "plt.xlabel('Time')\n",
    "plt.ylabel('Flow (cfs)')\n",
    "plt.legend()\n",
    "plt.show()"
   ]
  },
  {
   "cell_type": "markdown",
   "id": "f7710b9f-9ebc-408d-8c95-c56848bd26c7",
   "metadata": {},
   "source": [
    "## 2.6 Define new pump curve\n",
    "We can see that that pump oscilates, we can try a different pump curve to minimize the number of pump on/off switches"
   ]
  },
  {
   "cell_type": "code",
   "execution_count": null,
   "id": "597bb8ec-06e0-47c1-9ca7-27183ec3758a",
   "metadata": {},
   "outputs": [],
   "source": [
    "# get current curve settings\n",
    "\n",
    "inp.CURVES['PUMP_CURVE1']"
   ]
  },
  {
   "cell_type": "code",
   "execution_count": null,
   "id": "dbbaa9bd-b53e-4863-b3e5-11814143dfb1",
   "metadata": {},
   "outputs": [],
   "source": [
    "from swmm_api.input_file.sections import Curve"
   ]
  },
  {
   "cell_type": "code",
   "execution_count": null,
   "id": "97e60c85-9ac7-490e-95be-3130117558f0",
   "metadata": {},
   "outputs": [],
   "source": [
    "# create new pump settings\n",
    "\n",
    "pump_curve_name = 'NEW_PUMP_CURVE'\n",
    "pump_curve_type = 'PUMP4'\n",
    "pump_curve_points = points = [[0, 0], [1, 0.1], [2, 0.2], [3, 0.3], [4, 0.35], [5, 0.6], [10, 0.7]]"
   ]
  },
  {
   "cell_type": "code",
   "execution_count": null,
   "id": "e3d8e7fd-8e82-4e40-a85a-511ea943ea2e",
   "metadata": {},
   "outputs": [],
   "source": [
    "# define new pump curve\n",
    "\n",
    "new_pump_curve = Curve(pump_curve_name, pump_curve_type, pump_curve_points)"
   ]
  },
  {
   "cell_type": "code",
   "execution_count": null,
   "id": "e625b259-d26e-4417-953c-4ac22b2b94d5",
   "metadata": {},
   "outputs": [],
   "source": [
    "# assign the new pump curve\n",
    "\n",
    "inp.CURVES[pump_curve_name] = new_pump_curve"
   ]
  },
  {
   "cell_type": "code",
   "execution_count": null,
   "id": "47c4c2eb-09a1-4637-aee4-d88692e82294",
   "metadata": {},
   "outputs": [],
   "source": [
    "# verify the that the new curve was added \n",
    "\n",
    "inp.CURVES"
   ]
  },
  {
   "cell_type": "code",
   "execution_count": null,
   "id": "4f33df6f-4e30-4252-aa2c-9c40f6d2d36b",
   "metadata": {},
   "outputs": [],
   "source": [
    "# verify the settings of the new pump curve\n",
    "\n",
    "inp.CURVES['NEW_PUMP_CURVE']"
   ]
  },
  {
   "cell_type": "code",
   "execution_count": null,
   "id": "99ab94eb-edc1-47bf-ab93-1e2f26f16759",
   "metadata": {},
   "outputs": [],
   "source": [
    "# get the current curve assigned to PUMP1\n",
    "\n",
    "inp.PUMPS['PUMP1']"
   ]
  },
  {
   "cell_type": "code",
   "execution_count": null,
   "id": "2be57a26-6e9f-4ad8-a3ad-112ac53f6474",
   "metadata": {},
   "outputs": [],
   "source": [
    "# assign the new curve to PUMP1\n",
    "\n",
    "inp.PUMPS['PUMP1'].curve_name = 'NEW_PUMP_CURVE'"
   ]
  },
  {
   "cell_type": "code",
   "execution_count": null,
   "id": "bf2f3153-dfa0-4849-882b-7d7e07c17c42",
   "metadata": {},
   "outputs": [],
   "source": [
    "# plot the new pump curve\n",
    "\n",
    "pump_curve = inp.CURVES['NEW_PUMP_CURVE'].points\n",
    "\n",
    "flow, head = zip(*pump_curve)\n",
    "\n",
    "# Plot\n",
    "plt.figure(figsize=(6, 4))\n",
    "plt.plot(flow, head, marker='o')\n",
    "plt.title('Pump Curve: PUMP_CURVE1')\n",
    "plt.xlabel('Head (ft)')\n",
    "plt.ylabel('Flow (CFS)')\n",
    "plt.grid(True)\n",
    "plt.show()"
   ]
  },
  {
   "cell_type": "code",
   "execution_count": null,
   "id": "823760ee-da71-4445-8e93-8510fe74a9c3",
   "metadata": {},
   "outputs": [],
   "source": [
    "# run new simulation and get results\n",
    "\n",
    "with swmm5_run_temporary(inp.copy(), run=swmm5_run_progress, label='example_run_swmm') as res:\n",
    "    out = res.out  # type: SwmmOutput\n",
    "    rpt = res.rpt  # type: SwmmReport\n",
    "\n",
    "# storage depth\n",
    "\n",
    "storage_depth = out.get_part(OBJECTS.NODE, 'SU1', VARIABLES.NODE.DEPTH).to_frame()\n",
    "\n",
    "plt.plot(storage_depth, color='blue', label = 'storage depth', linewidth=2, alpha=0.5)\n",
    "plt.xlabel('Time')\n",
    "plt.ylabel('Depth (ft)')\n",
    "plt.legend()\n",
    "plt.show()"
   ]
  },
  {
   "cell_type": "code",
   "execution_count": null,
   "id": "a9b5a9fd-93f3-49f6-ac5c-f6acf4d5e150",
   "metadata": {},
   "outputs": [],
   "source": [
    "# pump flow\n",
    "\n",
    "pump_flow = out.get_part(OBJECTS.LINK, 'PUMP1', VARIABLES.LINK.FLOW).to_frame()\n",
    "plt.plot(pump_flow, color='red', label = 'pump flow', linewidth=2, alpha=0.5)\n",
    "# Formatting the plot\n",
    "plt.xlabel('Time')\n",
    "plt.ylabel('Flow (cfs)')\n",
    "plt.legend()\n",
    "#plt.savefig('figures/CTown_time_series_demand.png', dpi = 400)\n",
    "plt.show()"
   ]
  },
  {
   "cell_type": "markdown",
   "id": "537a6b27-7088-4669-8be3-3729a9003f10",
   "metadata": {},
   "source": [
    "### Question\n",
    "Both the pump flow and storage are now operating smoothly, but the storage depth exceeds 4 ft. Why?"
   ]
  },
  {
   "cell_type": "markdown",
   "id": "6cbbf50c-37c7-40ca-baae-6ad5f1728a4c",
   "metadata": {},
   "source": [
    "### Exercise: change the control rule < 3ft\n",
    "Change control rule so that the pump turns on if the depth exceeds 3 ft"
   ]
  },
  {
   "cell_type": "code",
   "execution_count": null,
   "id": "93b4a072-0680-4bcc-8cb1-a62d106a9210",
   "metadata": {},
   "outputs": [],
   "source": [
    "# import Control\n",
    "\n",
    "from swmm_api.input_file.sections import Control"
   ]
  },
  {
   "cell_type": "code",
   "execution_count": null,
   "id": "8a954a00-462a-4535-a294-4381868e7c2d",
   "metadata": {},
   "outputs": [],
   "source": [
    "# get pump curve\n"
   ]
  },
  {
   "cell_type": "code",
   "execution_count": null,
   "id": "0abad4b9-2663-4561-9ac0-173c439e3cd4",
   "metadata": {},
   "outputs": [],
   "source": [
    "# set back to the original curve\n",
    "\n"
   ]
  },
  {
   "cell_type": "code",
   "execution_count": null,
   "id": "1f01cfe2-fa65-4e6b-9d77-dd72075bc8f2",
   "metadata": {},
   "outputs": [],
   "source": [
    "# check the current rule\n",
    "\n"
   ]
  },
  {
   "cell_type": "code",
   "execution_count": null,
   "id": "b1263354-084f-44ae-ab23-0ce34335963b",
   "metadata": {},
   "outputs": [],
   "source": [
    "# check the structure of the CONTROLS object \n",
    "\n"
   ]
  },
  {
   "cell_type": "code",
   "execution_count": null,
   "id": "963b247b-c035-44ca-8468-e3c5e8966ddf",
   "metadata": {},
   "outputs": [],
   "source": [
    "# check the structure PUMP1A object \n",
    "\n"
   ]
  },
  {
   "cell_type": "code",
   "execution_count": null,
   "id": "304a5553-a73e-4822-b9ae-eccca1a9009e",
   "metadata": {},
   "outputs": [],
   "source": [
    "# get the current value\n",
    "\n"
   ]
  },
  {
   "cell_type": "code",
   "execution_count": null,
   "id": "0ca79743-8311-4aaa-b041-55a82f185c1e",
   "metadata": {},
   "outputs": [],
   "source": [
    "# set new value\n",
    "\n"
   ]
  },
  {
   "cell_type": "code",
   "execution_count": null,
   "id": "85a43f8e-e659-4d35-a6c1-f2e17913d78f",
   "metadata": {},
   "outputs": [],
   "source": [
    "# run simulation \n",
    "\n",
    "with swmm5_run_temporary(inp.copy(), run=swmm5_run_progress, label='example_run_swmm') as res:\n",
    "    out = res.out  # type: SwmmOutput\n",
    "    rpt = res.rpt  # type: SwmmReport\n"
   ]
  },
  {
   "cell_type": "code",
   "execution_count": null,
   "id": "4c5c0f6f-af58-4810-bb08-9d0c7bb6c66c",
   "metadata": {},
   "outputs": [],
   "source": [
    "# storage depth\n",
    "\n",
    "storage_depth = out.get_part(OBJECTS.NODE, 'SU1', VARIABLES.NODE.DEPTH).to_frame()\n",
    "\n",
    "plt.plot(storage_depth, color='blue', label = 'storage depth', linewidth=2, alpha=0.5)\n",
    "plt.xlabel('Time')\n",
    "plt.ylabel('Depth (ft)')\n",
    "plt.legend()\n",
    "plt.show()"
   ]
  },
  {
   "cell_type": "markdown",
   "id": "56fc6cb8-49cd-407a-8cb4-254de82cfbc5",
   "metadata": {},
   "source": [
    "The depth doesn't exceed ~3 ft"
   ]
  },
  {
   "cell_type": "code",
   "execution_count": null,
   "id": "abe451d6-aba8-421b-86f1-a86b7a827222",
   "metadata": {},
   "outputs": [],
   "source": []
  }
 ],
 "metadata": {
  "kernelspec": {
   "display_name": "Python 3 (ipykernel)",
   "language": "python",
   "name": "python3"
  },
  "language_info": {
   "codemirror_mode": {
    "name": "ipython",
    "version": 3
   },
   "file_extension": ".py",
   "mimetype": "text/x-python",
   "name": "python",
   "nbconvert_exporter": "python",
   "pygments_lexer": "ipython3",
   "version": "3.12.7"
  }
 },
 "nbformat": 4,
 "nbformat_minor": 5
}
