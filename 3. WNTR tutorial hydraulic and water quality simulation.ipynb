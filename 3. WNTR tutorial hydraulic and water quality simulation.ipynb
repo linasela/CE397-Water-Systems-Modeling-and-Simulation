{
 "cells": [
  {
   "cell_type": "markdown",
   "id": "02669051-bf1b-4d77-a099-20963bf5a24a",
   "metadata": {},
   "source": [
    "# WNTR Basic Tutorial"
   ]
  },
  {
   "cell_type": "code",
   "execution_count": null,
   "id": "0482bc42-ee03-46b5-952c-f02e922eec48",
   "metadata": {},
   "outputs": [],
   "source": [
    "#!pip install wntr numpy scipy networkx geopandas matplotlib "
   ]
  },
  {
   "cell_type": "code",
   "execution_count": null,
   "id": "4b1f0f2c-f43b-4e5b-a06b-b4cfd8fd8088",
   "metadata": {},
   "outputs": [],
   "source": [
    "# import packages\n",
    "import numpy as np\n",
    "import wntr\n",
    "import matplotlib.pyplot as plt "
   ]
  },
  {
   "cell_type": "markdown",
   "id": "0acd5b4b-dc3c-4bc7-bb6d-74aa1f7c6274",
   "metadata": {},
   "source": [
    "# Hydraulic and Water Quality Simulations"
   ]
  },
  {
   "cell_type": "code",
   "execution_count": null,
   "id": "97216c9b-7be0-485c-ac70-9676c07aafe3",
   "metadata": {},
   "outputs": [],
   "source": [
    "# Create a WaterNetworkModel from an EPANET INP file\n",
    "wn = wntr.network.WaterNetworkModel('networks/Net3.inp')"
   ]
  },
  {
   "cell_type": "code",
   "execution_count": null,
   "id": "a2fd4865-f404-40fb-bd9d-de357c533190",
   "metadata": {},
   "outputs": [],
   "source": [
    "# Plot a basic network graphic\n",
    "ax = wntr.graphics.plot_network(wn)"
   ]
  },
  {
   "cell_type": "code",
   "execution_count": null,
   "id": "6a9df30e-fea1-4cad-99b3-6f0138ddcd61",
   "metadata": {},
   "outputs": [],
   "source": [
    "# set simulation duration to be 4 days\n",
    "wn.options.time.duration = 4*24*3600 # seconds\n",
    "print(wn.options.time.duration/3600/24)"
   ]
  },
  {
   "cell_type": "code",
   "execution_count": null,
   "id": "d82373f6-c574-4a95-98dd-91e32eec7ded",
   "metadata": {},
   "outputs": [],
   "source": [
    "# run hydraulic simulation using EPANET solver\n",
    "sim = wntr.sim.EpanetSimulator(wn)\n",
    "results = sim.run_sim()"
   ]
  },
  {
   "cell_type": "code",
   "execution_count": null,
   "id": "4bfab2ae-c3ad-4a2d-89fd-100568e881b9",
   "metadata": {},
   "outputs": [],
   "source": [
    "# Get pressure for a given node and adjust time from sec to hours\n",
    "node_pressure = results.node['pressure'].loc[:,'105']\n",
    "time_hours = node_pressure.index / 3600  # Convert seconds to hours"
   ]
  },
  {
   "cell_type": "code",
   "execution_count": null,
   "id": "a1fccb1c-1b2b-46f8-af12-a12917be2727",
   "metadata": {},
   "outputs": [],
   "source": [
    "# Plot timeseries of a given node\n",
    "plt.figure() \n",
    "plt.plot(time_hours, node_pressure)\n",
    "# Formatting the plot\n",
    "plt.xlabel('Time (hours)')\n",
    "plt.ylabel('Pressure (m)')\n",
    "plt.title('Pressure Time Series at Selected Nodes')\n",
    "plt.legend(['node 105'])\n",
    "plt.grid(True)"
   ]
  },
  {
   "cell_type": "code",
   "execution_count": null,
   "id": "0d646737-33b5-4d3d-88bc-516c74e321b7",
   "metadata": {},
   "outputs": [],
   "source": [
    "# plot multiple nodes\n",
    "# Get pressure for a given node and adjust time from sec to hours\n",
    "node_pressure = results.node['pressure'].loc[:,['105','183','1']]\n",
    "time_hours = node_pressure.index / 3600  # Convert seconds to hours\n",
    "\n",
    "# Plot timeseries of a given node\n",
    "plt.figure() \n",
    "plt.plot(time_hours, node_pressure)\n",
    "# Formatting the plot\n",
    "plt.xlabel('Time (hours)')\n",
    "plt.ylabel('Pressure (m)')\n",
    "plt.title('Pressure Time Series at Selected Nodes')\n",
    "plt.legend(['105','183','1'])\n",
    "plt.grid(True)\n",
    "plt.show()"
   ]
  },
  {
   "cell_type": "markdown",
   "id": "3bc8b8ae-4ff7-4231-bb45-d50788c4d26f",
   "metadata": {},
   "source": [
    "## Water Quality"
   ]
  },
  {
   "cell_type": "code",
   "execution_count": null,
   "id": "0dafa7a6-3122-442c-96cb-27098fafa57e",
   "metadata": {},
   "outputs": [],
   "source": [
    "# get what the current WQ analysis is defined in the .inp file\n",
    "wn.options.quality.parameter"
   ]
  },
  {
   "cell_type": "code",
   "execution_count": null,
   "id": "8b9381ab-2c3e-4f8e-800c-d6b2b3129a09",
   "metadata": {},
   "outputs": [],
   "source": [
    "# Change it to water age\n",
    "wn.options.quality.parameter = 'AGE'\n",
    "# show again\n",
    "wn.options.quality.parameter"
   ]
  },
  {
   "cell_type": "code",
   "execution_count": null,
   "id": "6ccfd48b-d90a-4a16-a7a4-5ca8268865fa",
   "metadata": {},
   "outputs": [],
   "source": [
    "# run new simulation\n",
    "sim = wntr.sim.EpanetSimulator(wn)\n",
    "results = sim.run_sim()"
   ]
  },
  {
   "cell_type": "code",
   "execution_count": null,
   "id": "68e96bd1-d6ae-4af1-88f3-b67e69a4f618",
   "metadata": {},
   "outputs": [],
   "source": [
    "# get water age at nodes 183, 105, and 1 (tank); convert to hours\n",
    "node_water_age = results.node['quality'].loc[:,['103','183','1']]/3600\n",
    "time_hours = node_water_age.index / 3600  # Convert seconds to hours"
   ]
  },
  {
   "cell_type": "code",
   "execution_count": null,
   "id": "df882359-48da-40d0-9997-d1a37d438a96",
   "metadata": {},
   "outputs": [],
   "source": [
    "# Plot timeseries \n",
    "plt.figure() \n",
    "plt.plot(time_hours, node_water_age)\n",
    "# Formatting the plot\n",
    "plt.xlabel('Time (hours)')\n",
    "plt.ylabel('Water age (hours)')\n",
    "plt.title('Water age Time Series at Selected Nodes')\n",
    "plt.legend(['105','183','1'])\n",
    "plt.grid(True)\n",
    "plt.show()"
   ]
  },
  {
   "cell_type": "code",
   "execution_count": null,
   "id": "f185fdb7-24fb-4769-8292-d62dabaed34f",
   "metadata": {},
   "outputs": [],
   "source": [
    "# plot average water age at 48 hours across the network\n",
    "age = results.node['quality']\n",
    "age_48h = age.loc[48*3600]/3600\n",
    "ax = wntr.graphics.plot_network(wn, node_attribute = age_48h, node_size=50, title = \"Water age at 48 (hr)\")"
   ]
  },
  {
   "cell_type": "code",
   "execution_count": null,
   "id": "0ea6d6d6-0939-481d-9509-6937ff060bb0",
   "metadata": {},
   "outputs": [],
   "source": [
    "# plot average water age in the last 48 hours across the network\n",
    "age = results.node['quality']\n",
    "age_last_48h = age.loc[age.index[-1]-48*3600:age.index[-1]]\n",
    "average_age = age_last_48h.mean()/3600 # convert to hours for the plot\n",
    "ax = wntr.graphics.plot_network(wn, node_attribute = average_age, node_size=50, title = \"Average water age the last 48 (hr)\")\n",
    "\n"
   ]
  }
 ],
 "metadata": {
  "kernelspec": {
   "display_name": "Python 3 (ipykernel)",
   "language": "python",
   "name": "python3"
  },
  "language_info": {
   "codemirror_mode": {
    "name": "ipython",
    "version": 3
   },
   "file_extension": ".py",
   "mimetype": "text/x-python",
   "name": "python",
   "nbconvert_exporter": "python",
   "pygments_lexer": "ipython3",
   "version": "3.9.21"
  }
 },
 "nbformat": 4,
 "nbformat_minor": 5
}
